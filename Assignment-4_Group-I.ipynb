{
 "cells": [
  {
   "cell_type": "code",
   "execution_count": 1,
   "metadata": {},
   "outputs": [],
   "source": [
    "using LinearAlgebra"
   ]
  },
  {
   "cell_type": "markdown",
   "metadata": {},
   "source": [
    "# Activity-1"
   ]
  },
  {
   "cell_type": "code",
   "execution_count": 2,
   "metadata": {},
   "outputs": [
    {
     "data": {
      "text/plain": [
       "pattern (generic function with 1 method)"
      ]
     },
     "execution_count": 2,
     "metadata": {},
     "output_type": "execute_result"
    }
   ],
   "source": [
    "#Function to find all the possible kmers from the string\n",
    "function pattern(String, k)\n",
    "    #Creating a list to handle kmers obtained\n",
    "    dict1 = Dict();\n",
    "    idx = 1;\n",
    "    #Pushing them into the list\n",
    "    for i in 1:length(String)-k+1\n",
    "        dict1[idx] = String[i:i+k-1];\n",
    "        idx += 1;\n",
    "    end\n",
    "    #Returning the deictionary\n",
    "    return dict1;\n",
    "end"
   ]
  },
  {
   "cell_type": "code",
   "execution_count": 3,
   "metadata": {},
   "outputs": [
    {
     "data": {
      "text/plain": [
       "Dict{Any,Any} with 64 entries:\n",
       "  2  => \"ATTTTCCCA\"\n",
       "  11 => \"CGGCCACGC\"\n",
       "  39 => \"GGGCGGTTG\"\n",
       "  46 => \"TGCAAATAA\"\n",
       "  25 => \"TATGAGGTA\"\n",
       "  55 => \"AATTAGGAC\"\n",
       "  42 => \"CGGTTGCAA\"\n",
       "  29 => \"AGGTAATTT\"\n",
       "  58 => \"TAGGACATG\"\n",
       "  59 => \"AGGACATGG\"\n",
       "  8  => \"CCACGGCCA\"\n",
       "  57 => \"TTAGGACAT\"\n",
       "  20 => \"CCGGATATG\"\n",
       "  14 => \"CCACGCCCG\"\n",
       "  31 => \"GTAATTTTG\"\n",
       "  33 => \"AATTTTGGG\"\n",
       "  18 => \"GCCCGGATA\"\n",
       "  52 => \"TAAAATTAG\"\n",
       "  26 => \"ATGAGGTAA\"\n",
       "  35 => \"TTTTGGGCG\"\n",
       "  17 => \"CGCCCGGAT\"\n",
       "  64 => \"ATGGTGGCG\"\n",
       "  49 => \"AAATAAAAT\"\n",
       "  44 => \"GTTGCAAAT\"\n",
       "  4  => \"TTTCCCACG\"\n",
       "  ⋮  => ⋮"
      ]
     },
     "execution_count": 3,
     "metadata": {},
     "output_type": "execute_result"
    }
   ],
   "source": [
    "#Storing the list and dictionary obtained from the function\n",
    "k = 9;\n",
    "String = \"GATTTTCCCACGGCCACGCCCGGATATGAGGTAATTTTGGGCGGTTGCAAATAAAATTAGGACATGGTGGCG\";\n",
    "kmer1 = pattern(String,k)"
   ]
  },
  {
   "cell_type": "code",
   "execution_count": 4,
   "metadata": {},
   "outputs": [
    {
     "data": {
      "text/plain": [
       "lexico_order (generic function with 1 method)"
      ]
     },
     "execution_count": 4,
     "metadata": {},
     "output_type": "execute_result"
    }
   ],
   "source": [
    "function lexico_order(kmer)\n",
    "    sort_kmer = Dict();\n",
    "    s = [];\n",
    "    #Pushing all the kmers into a list for changing it to a lexicographic manner\n",
    "    for(key1,val1) in kmer\n",
    "        s = push!(s, val1);\n",
    "    end\n",
    "    #Sorting takes place in these for loops\n",
    "    for i in 1:length(s)\n",
    "        for j in i:length(s)\n",
    "            if(cmp(s[i], s[j]) >= 0)\n",
    "                #Swapping takes place\n",
    "                swap = s[i];\n",
    "                s[i] = s[j]; \n",
    "                s[j] = swap;\n",
    "            end\n",
    "        end\n",
    "    end\n",
    "    #New dictionary created based on the lexicographic order\n",
    "    idx = 0;\n",
    "    for i in 1:length(s)\n",
    "        idx = idx + 1;\n",
    "        sort_kmer[idx] = s[i];\n",
    "    end\n",
    "    #Returning the sorted dictionary and sorted list of kmers\n",
    "    return sort_kmer, s;\n",
    "end"
   ]
  },
  {
   "cell_type": "code",
   "execution_count": 5,
   "metadata": {},
   "outputs": [],
   "source": [
    "#Calling lexico order function\n",
    "dictK, K = lexico_order(kmer1);"
   ]
  },
  {
   "cell_type": "code",
   "execution_count": 6,
   "metadata": {},
   "outputs": [
    {
     "name": "stdout",
     "output_type": "stream",
     "text": [
      "Any[\"AAAATTAGG\", \"AAATAAAAT\", \"AAATTAGGA\", \"AATAAAATT\", \"AATTAGGAC\", \"AATTTTGGG\", \"ACATGGTGG\", \"ACGCCCGGA\", \"ACGGCCACG\", \"AGGACATGG\", \"AGGTAATTT\", \"ATAAAATTA\", \"ATATGAGGT\", \"ATGAGGTAA\", \"ATGGTGGCG\", \"ATTAGGACA\", \"ATTTTCCCA\", \"ATTTTGGGC\", \"CAAATAAAA\", \"CACGCCCGG\", \"CACGGCCAC\", \"CATGGTGGC\", \"CCACGCCCG\", \"CCACGGCCA\", \"CCCACGGCC\", \"CCCGGATAT\", \"CCGGATATG\", \"CGCCCGGAT\", \"CGGATATGA\", \"CGGCCACGC\", \"CGGTTGCAA\", \"GACATGGTG\", \"GAGGTAATT\", \"GATATGAGG\", \"GATTTTCCC\", \"GCAAATAAA\", \"GCCACGCCC\", \"GCCCGGATA\", \"GCGGTTGCA\", \"GGACATGGT\", \"GGATATGAG\", \"GGCCACGCC\", \"GGCGGTTGC\", \"GGGCGGTTG\", \"GGTAATTTT\", \"GGTTGCAAA\", \"GTAATTTTG\", \"GTTGCAAAT\", \"TAAAATTAG\", \"TAATTTTGG\", \"TAGGACATG\", \"TATGAGGTA\", \"TCCCACGGC\", \"TGAGGTAAT\", \"TGCAAATAA\", \"TGGGCGGTT\", \"TTAGGACAT\", \"TTCCCACGG\", \"TTGCAAATA\", \"TTGGGCGGT\", \"TTTCCCACG\", \"TTTGGGCGG\", \"TTTTCCCAC\", \"TTTTGGGCG\"]\n"
     ]
    }
   ],
   "source": [
    "#Printing the list in lexicographic order\n",
    "println(K)"
   ]
  },
  {
   "cell_type": "code",
   "execution_count": 7,
   "metadata": {},
   "outputs": [
    {
     "data": {
      "text/plain": [
       "create_AdjMat (generic function with 1 method)"
      ]
     },
     "execution_count": 7,
     "metadata": {},
     "output_type": "execute_result"
    }
   ],
   "source": [
    "#Function to create adjacency matrix (a directed graph)\n",
    "function create_AdjMat(kmer)\n",
    "    kmer1 = copy(kmer);\n",
    "    Adj = zeros(length(kmer1),length(kmer1));\n",
    "    for (key1,val1) in kmer1\n",
    "        for (key2,val2) in kmer1\n",
    "            if(cmp(val1, val2) != 0 && cmp(val1[1:k-1],val2[2:k])==0)\n",
    "                Adj[key1, key2] = 1;\n",
    "            end\n",
    "        end\n",
    "    end\n",
    "    return Adj;\n",
    "end"
   ]
  },
  {
   "cell_type": "code",
   "execution_count": 8,
   "metadata": {},
   "outputs": [
    {
     "data": {
      "text/plain": [
       "(\"GATTTTCCC\", \"ATGGTGGCG\")"
      ]
     },
     "execution_count": 8,
     "metadata": {},
     "output_type": "execute_result"
    }
   ],
   "source": [
    "#Function to find the starting and ending of the string\n",
    "function start_end(dictK)\n",
    "    start = \"\";\n",
    "    ending = \"\";\n",
    "    a2 = create_AdjMat(dictK);\n",
    "    dict_pos = Dict();\n",
    "    #Computing outdegree from adjacency matrix\n",
    "    outdegree = [sum(a2[:, i] for i in 1:size(a2)[1])];\n",
    "    #Computing indegree from adjacency matrix\n",
    "    indegree = [sum(a2[i, :] for i in 1:size(a2)[2])];\n",
    "    for i in 1:length(outdegree[1])\n",
    "        if(outdegree[1][i] == minimum(outdegree[1]))\n",
    "            start = string(start,dictK[i]);\n",
    "        elseif(indegree[1][i] == minimum(indegree[1]))\n",
    "            ending = string(ending,dictK[i]);\n",
    "        end\n",
    "    end\n",
    "    return start,ending;\n",
    "end\n",
    "start, ending = start_end(dictK)"
   ]
  },
  {
   "cell_type": "code",
   "execution_count": 9,
   "metadata": {},
   "outputs": [
    {
     "data": {
      "text/plain": [
       "Suffix (generic function with 1 method)"
      ]
     },
     "execution_count": 9,
     "metadata": {},
     "output_type": "execute_result"
    }
   ],
   "source": [
    "#Function to retrieve the Prefix\n",
    "function Prefix(Str)\n",
    "    return Str[1:k-1];\n",
    "end\n",
    "#Function to retrieve the Suffix\n",
    "function Suffix(Str)\n",
    "    return Str[2:k];\n",
    "end"
   ]
  },
  {
   "cell_type": "code",
   "execution_count": 10,
   "metadata": {},
   "outputs": [],
   "source": [
    "#Function used to order the kmers in sequence based on the prefix and suffix, also remove the starting and ending point.\n",
    "function kmer_reorder(kmer)\n",
    "    list = [];\n",
    "    #Count used to remove the starting and the ending kmer only once\n",
    "    count = 0;\n",
    "    for (key1,val1) in kmer\n",
    "        if(count == 1)\n",
    "            list = push!(list, val1);\n",
    "        elseif(val1 != start || val1!= ending)\n",
    "            list = push!(list, val1);\n",
    "        else\n",
    "            count = count + 1;\n",
    "        end\n",
    "    end\n",
    "    #Ordering the list based on Prefix and Suffix\n",
    "    for i in 1:length(list)-1\n",
    "        if((cmp(Prefix(list[i]), Prefix(list[i+1]))==0) && cmp(Prefix(list[i]),Suffix(list[i+1]))==0)\n",
    "            temp = list[i];\n",
    "            list[i] = list[i+1];\n",
    "            list[i+1] = temp;\n",
    "        end\n",
    "    end\n",
    "    #Returning the list\n",
    "    return list;\n",
    "end\n",
    "#Calling and obtaining the list\n",
    "ord_kmer = kmer_reorder(dictK);"
   ]
  },
  {
   "cell_type": "code",
   "execution_count": 11,
   "metadata": {},
   "outputs": [
    {
     "data": {
      "text/plain": [
       "reconstruct (generic function with 1 method)"
      ]
     },
     "execution_count": 11,
     "metadata": {},
     "output_type": "execute_result"
    }
   ],
   "source": [
    "#Function to reconstruct the sequence\n",
    "function reconstruct(ordlist)\n",
    "    #Starting appended to string\n",
    "    str = string(\"\",start);\n",
    "    #Intermediate string to check for prefix with the next kmer\n",
    "    inter_str = start;\n",
    "    for i in 1:length(ordlist)\n",
    "        for j in 1:length(ordlist)-1\n",
    "            if(Prefix(ordlist[j]) == Suffix(inter_str))\n",
    "                #Appending to the string\n",
    "                str = string(str, ordlist[j][k]);\n",
    "                #println(str);\n",
    "                #Changed to lowercase inorder to reduce the repetition of a kmer\n",
    "                ordlist[j] = lowercase(ordlist[j]);\n",
    "                #Updating inter_str\n",
    "                inter_str = str[end-k+1:end];\n",
    "            end\n",
    "        end\n",
    "    end\n",
    "    #Appending the ending kmer's last index value.\n",
    "    str = string(str,ending[k]);\n",
    "    #Returning the string\n",
    "    return str;\n",
    "end"
   ]
  },
  {
   "cell_type": "code",
   "execution_count": 12,
   "metadata": {},
   "outputs": [
    {
     "data": {
      "text/plain": [
       "\"GATTTTCCCACGGCCACGCCCGGATATGAGGTAATTTTGGGCGGTTGCAAATAAAATTAGGACATGGTGGCG\""
      ]
     },
     "execution_count": 12,
     "metadata": {},
     "output_type": "execute_result"
    }
   ],
   "source": [
    "#Calling reconstruct function to retrieve the original string\n",
    "String_Reconstructed = reconstruct(ord_kmer);\n",
    "String_Reconstructed"
   ]
  },
  {
   "cell_type": "code",
   "execution_count": 13,
   "metadata": {},
   "outputs": [
    {
     "data": {
      "text/plain": [
       "true"
      ]
     },
     "execution_count": 13,
     "metadata": {},
     "output_type": "execute_result"
    }
   ],
   "source": [
    "#Checking whether both the strings are equal\n",
    "String == String_Reconstructed"
   ]
  },
  {
   "cell_type": "code",
   "execution_count": null,
   "metadata": {},
   "outputs": [],
   "source": []
  }
 ],
 "metadata": {
  "kernelspec": {
   "display_name": "Julia 1.5.0",
   "language": "julia",
   "name": "julia-1.5"
  },
  "language_info": {
   "file_extension": ".jl",
   "mimetype": "application/julia",
   "name": "julia",
   "version": "1.5.0"
  }
 },
 "nbformat": 4,
 "nbformat_minor": 2
}
