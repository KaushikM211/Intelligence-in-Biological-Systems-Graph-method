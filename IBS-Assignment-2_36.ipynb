{
 "cells": [
  {
   "cell_type": "code",
   "execution_count": 1,
   "metadata": {},
   "outputs": [],
   "source": [
    "using LinearAlgebra"
   ]
  },
  {
   "cell_type": "markdown",
   "metadata": {},
   "source": [
    "# Activity 1"
   ]
  },
  {
   "cell_type": "code",
   "execution_count": 2,
   "metadata": {},
   "outputs": [
    {
     "data": {
      "text/plain": [
       "pattern (generic function with 1 method)"
      ]
     },
     "execution_count": 2,
     "metadata": {},
     "output_type": "execute_result"
    }
   ],
   "source": [
    "#Function to find all the possible kmers from the string\n",
    "function pattern(String, k)\n",
    "    #Creating a list to handle kmers obtained\n",
    "    s = [];\n",
    "    #Pushing them into the list\n",
    "    for i in 1:length(String)-k+1\n",
    "        s = push!(s,String[i:i+k-1]);\n",
    "    end\n",
    "    #Returning the list and the deictionary\n",
    "    return s;\n",
    "end"
   ]
  },
  {
   "cell_type": "code",
   "execution_count": 3,
   "metadata": {
    "scrolled": true
   },
   "outputs": [
    {
     "data": {
      "text/plain": [
       "5-element Array{Any,1}:\n",
       " \"TAC\"\n",
       " \"ACT\"\n",
       " \"CTG\"\n",
       " \"TGT\"\n",
       " \"GTT\""
      ]
     },
     "execution_count": 3,
     "metadata": {},
     "output_type": "execute_result"
    }
   ],
   "source": [
    "#Storing the list and dictionary obtained from the function\n",
    "k = 3;\n",
    "kmer1 = pattern(\"TACTGTT\",k)"
   ]
  },
  {
   "cell_type": "markdown",
   "metadata": {},
   "source": [
    "# Activity 2"
   ]
  },
  {
   "cell_type": "code",
   "execution_count": 4,
   "metadata": {},
   "outputs": [
    {
     "data": {
      "text/plain": [
       "lexico_order (generic function with 1 method)"
      ]
     },
     "execution_count": 4,
     "metadata": {},
     "output_type": "execute_result"
    }
   ],
   "source": [
    "#Function to find out the lexicographic ordering of the kmers\n",
    "function lexico_order(kmers)\n",
    "    #Creating a local variable sorted_kmer\n",
    "    sorted_kmer = kmers;\n",
    "    for i in 1:length(sorted_kmer)\n",
    "        for j in i:length(sorted_kmer)\n",
    "            #Alphabets Unicode values are increasing in order from A to Z.\n",
    "            #So a string will be arranged in alphabetical order in this fashion\n",
    "            if(cmp(sorted_kmer[i], sorted_kmer[j]) >= 0)\n",
    "                #Swapping takes place\n",
    "                swap = sorted_kmer[i];\n",
    "                sorted_kmer[i] = sorted_kmer[j]; \n",
    "                sorted_kmer[j] = swap;\n",
    "            end\n",
    "        end\n",
    "    end\n",
    "    #Returning the values obtained after sorting\n",
    "    return sorted_kmer;\n",
    "end"
   ]
  },
  {
   "cell_type": "code",
   "execution_count": 5,
   "metadata": {},
   "outputs": [
    {
     "data": {
      "text/plain": [
       "5-element Array{Any,1}:\n",
       " \"ACT\"\n",
       " \"CTG\"\n",
       " \"GTT\"\n",
       " \"TAC\"\n",
       " \"TGT\""
      ]
     },
     "execution_count": 5,
     "metadata": {},
     "output_type": "execute_result"
    }
   ],
   "source": [
    "#Storing of the sorted kmer list to a variable\n",
    "ord_kmer = lexico_order(kmer1)"
   ]
  },
  {
   "cell_type": "markdown",
   "metadata": {},
   "source": [
    "# Activity 3"
   ]
  },
  {
   "cell_type": "code",
   "execution_count": 6,
   "metadata": {},
   "outputs": [
    {
     "data": {
      "text/plain": [
       "Dict{Any,Any} with 5 entries:\n",
       "  \"ACT\" => \"AC\"\n",
       "  \"TGT\" => \"TG\"\n",
       "  \"CTG\" => \"CT\"\n",
       "  \"GTT\" => \"GT\"\n",
       "  \"TAC\" => \"TA\""
      ]
     },
     "execution_count": 6,
     "metadata": {},
     "output_type": "execute_result"
    }
   ],
   "source": [
    "#Creating a Dictionary to map kmer to its prefix => used for reconstruction\n",
    "function Prefix_Dict(kmer)\n",
    "    #Initialise dictionary\n",
    "    P = Dict();\n",
    "    for k in kmer\n",
    "        #Storing kmer mapped to its prefix\n",
    "        P[k] = k[1:2];\n",
    "    end\n",
    "    #Returning the value;\n",
    "    return P\n",
    "end\n",
    "PrefDict = Prefix_Dict(ord_kmer)"
   ]
  },
  {
   "cell_type": "code",
   "execution_count": 7,
   "metadata": {},
   "outputs": [
    {
     "data": {
      "text/plain": [
       "next_str (generic function with 1 method)"
      ]
     },
     "execution_count": 7,
     "metadata": {},
     "output_type": "execute_result"
    }
   ],
   "source": [
    "#Function used to find the next Prefix accessed from the Kmer-Prefix Dictionary\n",
    "function next_str(inter_str, PrefDict)\n",
    "    #If prefix is equal to the inter_str, the key,i.e, the kmer is returned\n",
    "    kmer_key = [key for (key, value) in PrefDict if value == inter_str];\n",
    "    return kmer_key;\n",
    "end"
   ]
  },
  {
   "cell_type": "code",
   "execution_count": 8,
   "metadata": {},
   "outputs": [
    {
     "data": {
      "text/plain": [
       "Starting (generic function with 1 method)"
      ]
     },
     "execution_count": 8,
     "metadata": {},
     "output_type": "execute_result"
    }
   ],
   "source": [
    "#Function to identify the starting prefix\n",
    "function Starting(ord_kmer)\n",
    "    #Creating 2 lists - Prefix and Suffix\n",
    "    Suffix = []\n",
    "    Prefix = []\n",
    "    for i in 1:length(ord_kmer)\n",
    "        #Pushing suffix of each kmer\n",
    "        Suffix = push!(Suffix,ord_kmer[i][2:k]);\n",
    "        #Pushing prefix of each kmer\n",
    "        Prefix = push!(Prefix,ord_kmer[i][1:k-1]);\n",
    "    end\n",
    "    #Storing Prefix list as a set in set1\n",
    "    set1 = Set(Prefix);\n",
    "    #Storing Suffix list as a set in set2\n",
    "    set2 = Set(Suffix);\n",
    "\n",
    "    #st is defined as set {Prefix set} - {Suffix set}\n",
    "    st = setdiff(set1, set2);\n",
    "    #ed is defined as set {Suffix set} - {Prefix set}\n",
    "    ed = setdiff(set2, set1);\n",
    "\n",
    "    st = string(st);\n",
    "    ed = string(ed);\n",
    "\n",
    "    #Starting prefix\n",
    "    start = st[10:11];\n",
    "    #Ending Suffix\n",
    "    End = ed[10:11];\n",
    "    return start;\n",
    "end"
   ]
  },
  {
   "cell_type": "code",
   "execution_count": 9,
   "metadata": {},
   "outputs": [
    {
     "data": {
      "text/plain": [
       "reconstruction (generic function with 1 method)"
      ]
     },
     "execution_count": 9,
     "metadata": {},
     "output_type": "execute_result"
    }
   ],
   "source": [
    "function reconstruction(kmer, PrefDict, k)\n",
    "    #Obtaining the starting kmer \n",
    "    start_kmer = Starting(kmer);\n",
    "    #Obtaining the next kmer in the reconstruction string variable\n",
    "    str = next_str(start_kmer,PrefDict);\n",
    "    #Re-initialising str\n",
    "    str = str[1][1:2];\n",
    "    for i in 1:length(kmer)\n",
    "        #Finding next kmer\n",
    "        inter_str =  next_str(start_kmer,PrefDict)\n",
    "        #Appending the last character from the obtained kmer\n",
    "        str = string(str,inter_str[1][k])\n",
    "        #Re-initialising start_kmer value\n",
    "        start_kmer = str[end-1:end]\n",
    "    end\n",
    "    #Returning the string\n",
    "    return str;\n",
    "end"
   ]
  },
  {
   "cell_type": "code",
   "execution_count": 10,
   "metadata": {},
   "outputs": [
    {
     "data": {
      "text/plain": [
       "\"TACTGTT\""
      ]
     },
     "execution_count": 10,
     "metadata": {},
     "output_type": "execute_result"
    }
   ],
   "source": [
    "reconstructed_string = reconstruction(ord_kmer, PrefDict, k)"
   ]
  },
  {
   "cell_type": "code",
   "execution_count": null,
   "metadata": {},
   "outputs": [],
   "source": []
  }
 ],
 "metadata": {
  "kernelspec": {
   "display_name": "Julia 1.5.0",
   "language": "julia",
   "name": "julia-1.5"
  },
  "language_info": {
   "file_extension": ".jl",
   "mimetype": "application/julia",
   "name": "julia",
   "version": "1.5.0"
  }
 },
 "nbformat": 4,
 "nbformat_minor": 2
}
