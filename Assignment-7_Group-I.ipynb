{
 "cells": [
  {
   "cell_type": "code",
   "execution_count": 1,
   "metadata": {},
   "outputs": [],
   "source": [
    "# importing required packages\n",
    "import networkx as nx \n",
    "import matplotlib.cbook\n",
    "from collections import defaultdict\n",
    "import numpy as np"
   ]
  },
  {
   "cell_type": "code",
   "execution_count": 2,
   "metadata": {},
   "outputs": [],
   "source": [
    "#Defining class to create the graph\n",
    "class Graph:\n",
    "    #List to store the vertex\n",
    "    Vertex = []\n",
    "    #Dictionary to store the graph\n",
    "    graph = dict()\n",
    "    #Constructor used to initialise an object\n",
    "    def __init__(self):\n",
    "        self.Vertex = []\n",
    "        self.graph = {}\n",
    "    #addEdge function to add the edges\n",
    "    def addEdge(self, node1, node2):\n",
    "        if node1 in self.graph.keys():\n",
    "            self.graph[node1].append(node2)\n",
    "        else:\n",
    "            self.graph[node1] = [node2]"
   ]
  },
  {
   "cell_type": "code",
   "execution_count": 3,
   "metadata": {},
   "outputs": [],
   "source": [
    "#Function used to retrieve the kmers\n",
    "def get_kmers(seq,k):\n",
    "    kmerDict={}\n",
    "    for i in range(len(seq)-k+1):\n",
    "        kmerDict[i] = seq[i:i+k]\n",
    "    return kmerDict"
   ]
  },
  {
   "cell_type": "code",
   "execution_count": 4,
   "metadata": {},
   "outputs": [],
   "source": [
    "#Defining the suffix and prefix functions\n",
    "def suffix(str1):\n",
    "    return(str1[1:])\n",
    "def prefix(str2):\n",
    "    return(str2[0:-1])"
   ]
  },
  {
   "cell_type": "code",
   "execution_count": 5,
   "metadata": {},
   "outputs": [],
   "source": [
    "#break_down function to find out the unique (k-1)mer from the kmer dictionary \n",
    "def break_down(K1):\n",
    "    b_kmer = dict()\n",
    "    #Index for prefix\n",
    "    i = 0\n",
    "    #Index for suffix\n",
    "    j = 1\n",
    "    for key,val in K1.items():\n",
    "        #Increment of i and j with 1 to over write the next prefix which is same as previous suffix\n",
    "        b_kmer[i] = prefix(val)\n",
    "        b_kmer[j] = suffix(val)\n",
    "        i = i + 1;\n",
    "        j = j + 1;\n",
    "    return b_kmer"
   ]
  },
  {
   "cell_type": "code",
   "execution_count": 6,
   "metadata": {},
   "outputs": [],
   "source": [
    "#Function used to sort the kmer list in lexicographic order\n",
    "def kmer_list(dict_K):\n",
    "    s = [];\n",
    "    for key,val in dict_K.items():\n",
    "        #Appending all kmers in the list\n",
    "        s.append(val)\n",
    "    #Returning the kmer in list\n",
    "    return s"
   ]
  },
  {
   "cell_type": "code",
   "execution_count": 7,
   "metadata": {},
   "outputs": [],
   "source": [
    "#Function to create deBrujn_Graph\n",
    "def deBrujn_Graph(K1):\n",
    "    #Creating a directed Graph\n",
    "    dgraph = nx.DiGraph()\n",
    "    if(type(K1) == dict):\n",
    "        #Iterating through the graph\n",
    "        for key,val in K1.items():\n",
    "            #Adding edge to directed graph\n",
    "            #Only 1 second node is present\n",
    "            if(len(val) == 1):\n",
    "                dgraph.add_edge(key,val[0])\n",
    "            #More than 1 second node(s) present\n",
    "            else:\n",
    "                for i in range(len(val)):\n",
    "                    dgraph.add_edge(key,val[i])\n",
    "    elif(type(K1) == list):\n",
    "        #If K1 is a list-with sequenced kmers\n",
    "        for i in range(len(K1)-1):\n",
    "            dgraph.add_edge(K1[i], K1[i+1])\n",
    "    #Drawing the directed graph\n",
    "    nx.draw_shell(dgraph,with_labels = True,node_size=800)"
   ]
  },
  {
   "cell_type": "code",
   "execution_count": 8,
   "metadata": {},
   "outputs": [],
   "source": [
    "#Function to create adjacency matrix (a directed graph)\n",
    "def create_AdjMat(kmer):\n",
    "    #Creating zeros matrix\n",
    "    Adj = np.zeros((len(kmer),len(kmer)))\n",
    "    for i in range(len(kmer)):\n",
    "        for j in range(len(kmer)):\n",
    "            #Mapping done based on directed graphs\n",
    "            if(kmer[i] != kmer[j] and prefix(kmer[j]) == suffix(kmer[i])):\n",
    "                Adj[i][j] = 1\n",
    "    return Adj;"
   ]
  },
  {
   "cell_type": "code",
   "execution_count": 9,
   "metadata": {},
   "outputs": [],
   "source": [
    "#Function to find the starting and ending of the string\n",
    "def start_end(K1, dictK, Vertex):\n",
    "    start = \"\"\n",
    "    ending = \"\"\n",
    "    #Creating the adjacency matrix\n",
    "    a2 = create_AdjMat(dictK)\n",
    "    #Computing outdegree from adjacency matrix\n",
    "    outdegree = a2.sum(axis = 1)\n",
    "    #Computing indegree from adjacency matrix\n",
    "    indegree = a2.sum(axis = 0)\n",
    "    #In order to obtain the starting and ending points accurately and stop the testing once\n",
    "    #the starting and ending points are known\n",
    "    count1 = 0\n",
    "    count2 = 0\n",
    "    for i in range(len(outdegree)):\n",
    "        #Obtaining the ending point as it's outdegree is minimum, i.e, 0(ideal)\n",
    "        if(outdegree[i] == min(outdegree) and count1 < 1):\n",
    "            ending = ending + str(dictK[i])\n",
    "            count1 = count1 + 1\n",
    "        #Obtaining the starting point as it's indegree is minimum, i.e, 0(ideal) \n",
    "        elif(indegree[i] == min(indegree) and count2 < 1):\n",
    "            start = start + str(dictK[i])\n",
    "            count2 = count2 + 1\n",
    "    return start,ending,a2"
   ]
  },
  {
   "cell_type": "code",
   "execution_count": 10,
   "metadata": {},
   "outputs": [],
   "source": [
    "def Reconstruct(graph, Vertex, starting, ending): \n",
    "    # Mark all the vertices as not visited\n",
    "    visited = np.zeros(len(Vertex))\n",
    "    # Create a queue for Breadth First Search \n",
    "    queue = []\n",
    "    # Enqueue the Starting Vertex(starting)\n",
    "    queue.append(starting);\n",
    "    index = 0\n",
    "    #Find index at which starting value occurs\n",
    "    for i in range(len(Vertex)):\n",
    "        if(Vertex[i] == starting):\n",
    "            index = i;\n",
    "    #Assigning starting vertex(starting) as visited\n",
    "    visited[index] = 1;\n",
    "    path = []\n",
    "    path.append(starting);\n",
    "    while len(queue)>0:\n",
    "        #Dequeue a vertex from queue \n",
    "        inter = queue.pop()\n",
    "        #If this adjacent node is the destination node, then return true \n",
    "        if (inter == ending):\n",
    "            #print(visited)\n",
    "            return path\n",
    "        # Else, continue to do Breadth First Search \n",
    "        for key,val in graph.items():\n",
    "            #Used to find the index at which next node is present in order to mark visited\n",
    "            index = 0\n",
    "            #If there is only 1 edge2 from edge1 \n",
    "            if(len(val) == 1):\n",
    "                for idx in range(len(Vertex)):\n",
    "                    if(val[0] == Vertex[idx]):\n",
    "                        index = idx\n",
    "                        break\n",
    "                if(key == inter and visited[index] == 0):\n",
    "                    #We queue in the next vertex and mark that location as visited\n",
    "                    queue.append(val[0])\n",
    "                    visited[index] = 1\n",
    "                    path.append(val[0])\n",
    "            #If there are multiple edge2 from edge1    \n",
    "            else:\n",
    "                for i in range(len(val)):\n",
    "                    index = 0\n",
    "                    for idx in range(len(Vertex)):\n",
    "                        if(val[i] == Vertex[idx]):\n",
    "                            index = idx\n",
    "                            break\n",
    "                    if (key == inter and visited[index] == 0):\n",
    "                         #We queue in the next vertex and mark that location as visited\n",
    "                        queue.append(Vertex[index]) \n",
    "                        visited[index] = 1\n",
    "                        path.append(Vertex[index])\n",
    "    # If Breadth First Search is completed without reaching ending Vertex(d) \n",
    "    return [] "
   ]
  },
  {
   "cell_type": "code",
   "execution_count": 11,
   "metadata": {},
   "outputs": [],
   "source": [
    "#Kmer length\n",
    "k = 3\n",
    "#Given sequence - 1\n",
    "seq1 = \"TAATGCC\""
   ]
  },
  {
   "cell_type": "code",
   "execution_count": 12,
   "metadata": {},
   "outputs": [
    {
     "data": {
      "text/plain": [
       "{0: 'TAA', 1: 'AAT', 2: 'ATG', 3: 'TGC', 4: 'GCC'}"
      ]
     },
     "execution_count": 12,
     "metadata": {},
     "output_type": "execute_result"
    }
   ],
   "source": [
    "#Obtaining the kmer sequences\n",
    "K1 = get_kmers(seq1,k)\n",
    "K1"
   ]
  },
  {
   "cell_type": "code",
   "execution_count": 13,
   "metadata": {},
   "outputs": [
    {
     "data": {
      "text/plain": [
       "{0: 'TA', 1: 'AA', 2: 'AT', 3: 'TG', 4: 'GC', 5: 'CC'}"
      ]
     },
     "execution_count": 13,
     "metadata": {},
     "output_type": "execute_result"
    }
   ],
   "source": [
    "#The unique (k-1)mers\n",
    "K2 = break_down(K1)\n",
    "#Displaying the (k-1) mers\n",
    "K2"
   ]
  },
  {
   "cell_type": "code",
   "execution_count": 14,
   "metadata": {},
   "outputs": [
    {
     "name": "stdout",
     "output_type": "stream",
     "text": [
      "['TA', 'AA', 'AT', 'TG', 'GC', 'CC']\n"
     ]
    }
   ],
   "source": [
    "#Obtaining the lexicographic order of the (k-1)mers\n",
    "s = kmer_list(K2)\n",
    "print(s)"
   ]
  },
  {
   "cell_type": "code",
   "execution_count": 15,
   "metadata": {},
   "outputs": [
    {
     "name": "stdout",
     "output_type": "stream",
     "text": [
      "{'TA': ['AA'], 'AA': ['AT'], 'AT': ['TG'], 'TG': ['GC'], 'GC': ['CC']}\n",
      "['CC', 'GC', 'AA', 'TG', 'TA', 'AT']\n"
     ]
    }
   ],
   "source": [
    "#Using (k-1)mers\n",
    "#Initialising the Graph object\n",
    "g1 = Graph()\n",
    "#Graph is stored in the form of a dictionary\n",
    "#Creating Graph by passing the edges\n",
    "for i in range(len(s)-1):\n",
    "    #Adding the edges\n",
    "    g1.addEdge(s[i],s[i + 1])\n",
    "#Unique kmers would be the vertices of the graph\n",
    "g1.Vertex = list(set(s))\n",
    "#Displaying the graph dictionary\n",
    "print(g1.graph)\n",
    "#Displaying the vertex\n",
    "print(g1.Vertex)"
   ]
  },
  {
   "cell_type": "code",
   "execution_count": 16,
   "metadata": {},
   "outputs": [],
   "source": [
    "#Displaying the Graph with intial (k-1)mer\n",
    "deBrujn_Graph(g1.graph)"
   ]
  },
  {
   "cell_type": "code",
   "execution_count": 17,
   "metadata": {},
   "outputs": [
    {
     "data": {
      "text/plain": [
       "{'AA': ['AT'],\n",
       " 'AT': ['TA', 'TG'],\n",
       " 'GC': ['CC'],\n",
       " 'TA': ['AA', 'AT'],\n",
       " 'TG': ['GC']}"
      ]
     },
     "execution_count": 17,
     "metadata": {},
     "output_type": "execute_result"
    }
   ],
   "source": [
    "#Creating Graph based on suffix and prefix for lexicographic ordered (k-1)mers\n",
    "g2 = Graph()\n",
    "#Sorting the list\n",
    "s.sort()\n",
    "#Vertex won't change for both graphs\n",
    "g2.Vertex = g1.Vertex\n",
    "#For loop to test suffix and prefix relations to create the nodes\n",
    "for i in range(len(s)):\n",
    "    for j in range(len(s)):\n",
    "        if(prefix(s[j]) == suffix(s[i]) and i != j):\n",
    "            g2.addEdge(s[i],s[j])\n",
    "g2.graph"
   ]
  },
  {
   "cell_type": "code",
   "execution_count": 18,
   "metadata": {},
   "outputs": [],
   "source": [
    "#Obtaining the starting and the ending nodes\n",
    "start, ending, adjMat = start_end(g2.graph, s, g2.Vertex)"
   ]
  },
  {
   "cell_type": "code",
   "execution_count": 19,
   "metadata": {},
   "outputs": [
    {
     "data": {
      "text/plain": [
       "['AA', 'AT', 'TA', 'TG', 'GC', 'CC']"
      ]
     },
     "execution_count": 19,
     "metadata": {},
     "output_type": "execute_result"
    }
   ],
   "source": [
    "#Reconstruction from k-mer list\n",
    "K3 = Reconstruct(g2.graph, g2.Vertex, start, ending)\n",
    "#Displaying the (k-1) mers in sequential order\n",
    "K3"
   ]
  },
  {
   "cell_type": "code",
   "execution_count": 20,
   "metadata": {},
   "outputs": [
    {
     "data": {
      "image/png": "[encoded data removed]",
      "text/plain": [
       "<Figure size 432x288 with 1 Axes>"
      ]
     },
     "metadata": {},
     "output_type": "display_data"
    }
   ],
   "source": [
    "#Obtaining the deBrujn_Graph for the same\n",
    "deBrujn_Graph(K3)"
   ]
  },
  {
   "cell_type": "code",
   "execution_count": 21,
   "metadata": {},
   "outputs": [],
   "source": [
    "#Given Sequence-2\n",
    "k = 5\n",
    "seq2 = \"GCGGTAATGCAGTTGAC\""
   ]
  },
  {
   "cell_type": "code",
   "execution_count": 22,
   "metadata": {},
   "outputs": [
    {
     "data": {
      "text/plain": [
       "{0: 'GCGGT',\n",
       " 1: 'CGGTA',\n",
       " 2: 'GGTAA',\n",
       " 3: 'GTAAT',\n",
       " 4: 'TAATG',\n",
       " 5: 'AATGC',\n",
       " 6: 'ATGCA',\n",
       " 7: 'TGCAG',\n",
       " 8: 'GCAGT',\n",
       " 9: 'CAGTT',\n",
       " 10: 'AGTTG',\n",
       " 11: 'GTTGA',\n",
       " 12: 'TTGAC'}"
      ]
     },
     "execution_count": 22,
     "metadata": {},
     "output_type": "execute_result"
    }
   ],
   "source": [
    "#Obtaining the kmer sequences\n",
    "K1 = get_kmers(seq2,k)\n",
    "K1"
   ]
  },
  {
   "cell_type": "code",
   "execution_count": 23,
   "metadata": {},
   "outputs": [
    {
     "data": {
      "text/plain": [
       "{0: 'GCGG',\n",
       " 1: 'CGGT',\n",
       " 2: 'GGTA',\n",
       " 3: 'GTAA',\n",
       " 4: 'TAAT',\n",
       " 5: 'AATG',\n",
       " 6: 'ATGC',\n",
       " 7: 'TGCA',\n",
       " 8: 'GCAG',\n",
       " 9: 'CAGT',\n",
       " 10: 'AGTT',\n",
       " 11: 'GTTG',\n",
       " 12: 'TTGA',\n",
       " 13: 'TGAC'}"
      ]
     },
     "execution_count": 23,
     "metadata": {},
     "output_type": "execute_result"
    }
   ],
   "source": [
    "#The unique (k-1)mers\n",
    "K2 = break_down(K1)\n",
    "#Displaying the (k-1) mers\n",
    "K2"
   ]
  },
  {
   "cell_type": "code",
   "execution_count": 24,
   "metadata": {},
   "outputs": [
    {
     "name": "stdout",
     "output_type": "stream",
     "text": [
      "['GCGG', 'CGGT', 'GGTA', 'GTAA', 'TAAT', 'AATG', 'ATGC', 'TGCA', 'GCAG', 'CAGT', 'AGTT', 'GTTG', 'TTGA', 'TGAC']\n"
     ]
    }
   ],
   "source": [
    "#Obtaining the lexicographic order of the (k-1)mers\n",
    "s = kmer_list(K2)\n",
    "print(s)"
   ]
  },
  {
   "cell_type": "code",
   "execution_count": 25,
   "metadata": {},
   "outputs": [
    {
     "name": "stdout",
     "output_type": "stream",
     "text": [
      "{'GCGG': ['CGGT'], 'CGGT': ['GGTA'], 'GGTA': ['GTAA'], 'GTAA': ['TAAT'], 'TAAT': ['AATG'], 'AATG': ['ATGC'], 'ATGC': ['TGCA'], 'TGCA': ['GCAG'], 'GCAG': ['CAGT'], 'CAGT': ['AGTT'], 'AGTT': ['GTTG'], 'GTTG': ['TTGA'], 'TTGA': ['TGAC']}\n",
      "['GTAA', 'GTTG', 'AGTT', 'CAGT', 'TGCA', 'CGGT', 'TAAT', 'GGTA', 'GCAG', 'AATG', 'TTGA', 'TGAC', 'GCGG', 'ATGC']\n"
     ]
    }
   ],
   "source": [
    "#Using (k-1)mers\n",
    "#Initialising the Graph object\n",
    "g1 = Graph()\n",
    "#Graph is stored in the form of a dictionary\n",
    "#Creating Graph by passing the edges\n",
    "for i in range(len(s)-1):\n",
    "    #Adding the edges\n",
    "    g1.addEdge(s[i],s[i + 1])\n",
    "#Unique kmers would be the vertices of the graph\n",
    "g1.Vertex = list(set(s))\n",
    "#Displaying the graph dictionary\n",
    "print(g1.graph)\n",
    "#Displaying the vertex\n",
    "print(g1.Vertex)"
   ]
  },
  {
   "cell_type": "code",
   "execution_count": 26,
   "metadata": {},
   "outputs": [
    {
     "data": {
      "image/png": "[encoded data removed]",
      "text/plain": [
       "<Figure size 432x288 with 1 Axes>"
      ]
     },
     "metadata": {},
     "output_type": "display_data"
    }
   ],
   "source": [
    "#Displaying the Graph with intial (k-1)mer\n",
    "deBrujn_Graph(g1.graph)"
   ]
  },
  {
   "cell_type": "code",
   "execution_count": 27,
   "metadata": {},
   "outputs": [
    {
     "data": {
      "text/plain": [
       "{'AATG': ['ATGC'],\n",
       " 'AGTT': ['GTTG'],\n",
       " 'ATGC': ['TGCA'],\n",
       " 'CAGT': ['AGTT'],\n",
       " 'CGGT': ['GGTA'],\n",
       " 'GCAG': ['CAGT'],\n",
       " 'GCGG': ['CGGT'],\n",
       " 'GGTA': ['GTAA'],\n",
       " 'GTAA': ['TAAT'],\n",
       " 'GTTG': ['TTGA'],\n",
       " 'TAAT': ['AATG'],\n",
       " 'TGCA': ['GCAG'],\n",
       " 'TTGA': ['TGAC']}"
      ]
     },
     "execution_count": 27,
     "metadata": {},
     "output_type": "execute_result"
    }
   ],
   "source": [
    "g2 = Graph()\n",
    "s.sort()\n",
    "g2.Vertex = g1.Vertex\n",
    "for i in range(len(s)):\n",
    "    for j in range(len(s)):\n",
    "        if(prefix(s[j]) == suffix(s[i]) and i != j):\n",
    "            g2.addEdge(s[i],s[j])\n",
    "g2.graph"
   ]
  },
  {
   "cell_type": "code",
   "execution_count": 28,
   "metadata": {},
   "outputs": [],
   "source": [
    "#Obtaining the starting and the ending nodes\n",
    "start, ending, adjMat = start_end(g2.graph, s, g2.Vertex)"
   ]
  },
  {
   "cell_type": "code",
   "execution_count": 29,
   "metadata": {},
   "outputs": [
    {
     "data": {
      "text/plain": [
       "['GCGG',\n",
       " 'CGGT',\n",
       " 'GGTA',\n",
       " 'GTAA',\n",
       " 'TAAT',\n",
       " 'AATG',\n",
       " 'ATGC',\n",
       " 'TGCA',\n",
       " 'GCAG',\n",
       " 'CAGT',\n",
       " 'AGTT',\n",
       " 'GTTG',\n",
       " 'TTGA',\n",
       " 'TGAC']"
      ]
     },
     "execution_count": 29,
     "metadata": {},
     "output_type": "execute_result"
    }
   ],
   "source": [
    "#Reconstruction from (k-1) mer list\n",
    "K3 = Reconstruct(g2.graph, g2.Vertex, start, ending)\n",
    "#Displaying the (k-1) mers in sequential order\n",
    "K3"
   ]
  },
  {
   "cell_type": "code",
   "execution_count": 30,
   "metadata": {},
   "outputs": [
    {
     "data": {
      "image/png": "[encoded data removed]",
      "text/plain": [
       "<Figure size 432x288 with 1 Axes>"
      ]
     },
     "metadata": {},
     "output_type": "display_data"
    }
   ],
   "source": [
    "#Obtaining the deBrujn_Graph for the same\n",
    "deBrujn_Graph(K3)"
   ]
  },
  {
   "cell_type": "code",
   "execution_count": 31,
   "metadata": {},
   "outputs": [],
   "source": [
    "#Given Sequence-3\n",
    "k = 5\n",
    "seq3 = \"TTGAGTGCCAGCG\""
   ]
  },
  {
   "cell_type": "code",
   "execution_count": 32,
   "metadata": {},
   "outputs": [
    {
     "data": {
      "text/plain": [
       "{0: 'TTGAG',\n",
       " 1: 'TGAGT',\n",
       " 2: 'GAGTG',\n",
       " 3: 'AGTGC',\n",
       " 4: 'GTGCC',\n",
       " 5: 'TGCCA',\n",
       " 6: 'GCCAG',\n",
       " 7: 'CCAGC',\n",
       " 8: 'CAGCG'}"
      ]
     },
     "execution_count": 32,
     "metadata": {},
     "output_type": "execute_result"
    }
   ],
   "source": [
    "#Obtaining the kmer sequences\n",
    "K1 = get_kmers(seq3,k)\n",
    "#Displaying the kmers\n",
    "K1"
   ]
  },
  {
   "cell_type": "code",
   "execution_count": 33,
   "metadata": {},
   "outputs": [
    {
     "data": {
      "text/plain": [
       "{0: 'TTGA',\n",
       " 1: 'TGAG',\n",
       " 2: 'GAGT',\n",
       " 3: 'AGTG',\n",
       " 4: 'GTGC',\n",
       " 5: 'TGCC',\n",
       " 6: 'GCCA',\n",
       " 7: 'CCAG',\n",
       " 8: 'CAGC',\n",
       " 9: 'AGCG'}"
      ]
     },
     "execution_count": 33,
     "metadata": {},
     "output_type": "execute_result"
    }
   ],
   "source": [
    "#The unique (k-1)mers\n",
    "K2 = break_down(K1)\n",
    "#Displaying the (k-1) mers\n",
    "K2"
   ]
  },
  {
   "cell_type": "code",
   "execution_count": 34,
   "metadata": {},
   "outputs": [
    {
     "name": "stdout",
     "output_type": "stream",
     "text": [
      "['TTGA', 'TGAG', 'GAGT', 'AGTG', 'GTGC', 'TGCC', 'GCCA', 'CCAG', 'CAGC', 'AGCG']\n"
     ]
    }
   ],
   "source": [
    "#Obtaining the lexicographic order of the (k-1)mers\n",
    "s = kmer_list(K2)\n",
    "print(s)"
   ]
  },
  {
   "cell_type": "code",
   "execution_count": 35,
   "metadata": {},
   "outputs": [
    {
     "name": "stdout",
     "output_type": "stream",
     "text": [
      "{'TTGA': ['TGAG'], 'TGAG': ['GAGT'], 'GAGT': ['AGTG'], 'AGTG': ['GTGC'], 'GTGC': ['TGCC'], 'TGCC': ['GCCA'], 'GCCA': ['CCAG'], 'CCAG': ['CAGC'], 'CAGC': ['AGCG']}\n",
      "['CAGC', 'CCAG', 'TGCC', 'GTGC', 'AGTG', 'TGAG', 'TTGA', 'GCCA', 'GAGT', 'AGCG']\n"
     ]
    }
   ],
   "source": [
    "#Using (k-1)mers\n",
    "#Initialising the Graph object\n",
    "g1 = Graph()\n",
    "#Graph is stored in the form of a dictionary\n",
    "#Creating Graph by passing the edges\n",
    "for i in range(len(s)-1):\n",
    "    #Adding the edges\n",
    "    g1.addEdge(s[i],s[i + 1])\n",
    "#Unique kmers would be the vertices of the graph\n",
    "g1.Vertex = list(set(s))\n",
    "#Displaying the graph dictionary\n",
    "print(g1.graph)\n",
    "#Displaying the vertex\n",
    "print(g1.Vertex)"
   ]
  },
  {
   "cell_type": "code",
   "execution_count": 36,
   "metadata": {},
   "outputs": [
    {
     "data": {
      "image/png": "[encoded data removed]",
      "text/plain": [
       "<Figure size 432x288 with 1 Axes>"
      ]
     },
     "metadata": {},
     "output_type": "display_data"
    }
   ],
   "source": [
    "#Displaying the Graph with intial (k-1)mer\n",
    "deBrujn_Graph(g1.graph)"
   ]
  },
  {
   "cell_type": "code",
   "execution_count": 37,
   "metadata": {},
   "outputs": [
    {
     "data": {
      "text/plain": [
       "{'AGTG': ['GTGC'],\n",
       " 'CAGC': ['AGCG'],\n",
       " 'CCAG': ['CAGC'],\n",
       " 'GAGT': ['AGTG'],\n",
       " 'GCCA': ['CCAG'],\n",
       " 'GTGC': ['TGCC'],\n",
       " 'TGAG': ['GAGT'],\n",
       " 'TGCC': ['GCCA'],\n",
       " 'TTGA': ['TGAG']}"
      ]
     },
     "execution_count": 37,
     "metadata": {},
     "output_type": "execute_result"
    }
   ],
   "source": [
    "g2 = Graph()\n",
    "s.sort()\n",
    "g2.Vertex = g1.Vertex\n",
    "for i in range(len(s)):\n",
    "    for j in range(len(s)):\n",
    "        if(prefix(s[j]) == suffix(s[i]) and i != j):\n",
    "            g2.addEdge(s[i],s[j])\n",
    "g2.graph"
   ]
  },
  {
   "cell_type": "code",
   "execution_count": 38,
   "metadata": {},
   "outputs": [],
   "source": [
    "#Obtaining the starting and the ending nodes\n",
    "start, ending, adjMat = start_end(g2.graph, s, g2.Vertex)"
   ]
  },
  {
   "cell_type": "code",
   "execution_count": 39,
   "metadata": {},
   "outputs": [
    {
     "data": {
      "text/plain": [
       "['TTGA',\n",
       " 'TGAG',\n",
       " 'GAGT',\n",
       " 'AGTG',\n",
       " 'GTGC',\n",
       " 'TGCC',\n",
       " 'GCCA',\n",
       " 'CCAG',\n",
       " 'CAGC',\n",
       " 'AGCG']"
      ]
     },
     "execution_count": 39,
     "metadata": {},
     "output_type": "execute_result"
    }
   ],
   "source": [
    "#Reconstruction from (k-1) mer list\n",
    "K3 = Reconstruct(g2.graph, g2.Vertex, start, ending)\n",
    "#Displaying the (k-1) mers in sequential order\n",
    "K3"
   ]
  },
  {
   "cell_type": "code",
   "execution_count": 40,
   "metadata": {},
   "outputs": [
    {
     "data": {
      "image/png": "[encoded data removed]",
      "text/plain": [
       "<Figure size 432x288 with 1 Axes>"
      ]
     },
     "metadata": {},
     "output_type": "display_data"
    }
   ],
   "source": [
    "#Obtaining the deBrujn_Graph for the same\n",
    "deBrujn_Graph(K3)"
   ]
  }
 ],
 "metadata": {
  "kernelspec": {
   "display_name": "Python 3",
   "language": "python",
   "name": "python3"
  },
  "language_info": {
   "codemirror_mode": {
    "name": "ipython",
    "version": 3
   },
   "file_extension": ".py",
   "mimetype": "text/x-python",
   "name": "python",
   "nbconvert_exporter": "python",
   "pygments_lexer": "ipython3",
   "version": "3.7.4"
  }
 },
 "nbformat": 4,
 "nbformat_minor": 2
}
