{
 "cells": [
  {
   "cell_type": "code",
   "execution_count": 1,
   "metadata": {},
   "outputs": [],
   "source": [
    "#Importing Required packages\n",
    "using LinearAlgebra"
   ]
  },
  {
   "cell_type": "markdown",
   "metadata": {},
   "source": [
    "# Question-1"
   ]
  },
  {
   "cell_type": "code",
   "execution_count": 2,
   "metadata": {},
   "outputs": [
    {
     "data": {
      "text/plain": [
       "addEdge (generic function with 1 method)"
      ]
     },
     "execution_count": 2,
     "metadata": {},
     "output_type": "execute_result"
    }
   ],
   "source": [
    "#Initialise Graph\n",
    "Graph = Dict();\n",
    "#Function used to add the edges\n",
    "function addEdge(edge1, edge2)\n",
    "    #If an edge1 is already present, edge2 gets appended to the list\n",
    "    if(haskey(Graph, edge1))\n",
    "        Graph[edge1] = push!(Graph[edge1],edge2);\n",
    "    else\n",
    "        #edge2 assigned at key=edge1 which means edge directed from edge1 to edge2\n",
    "        Graph[edge1] = [edge2];\n",
    "    end    \n",
    "end"
   ]
  },
  {
   "cell_type": "code",
   "execution_count": 3,
   "metadata": {},
   "outputs": [
    {
     "name": "stdout",
     "output_type": "stream",
     "text": [
      "Dict{Any,Any}('a' => ['b'],'c' => ['d', 'e', 'g'],'b' => ['c', 'f'])\n"
     ]
    }
   ],
   "source": [
    "#Defining the vertices of the Graph\n",
    "Vertex = ['a','b','c','d','e','f','g'];\n",
    "#Creating Graph by passing the edges\n",
    "addEdge('a','b');\n",
    "addEdge('b','c');\n",
    "addEdge('b','f');\n",
    "addEdge('c','d');\n",
    "addEdge('c','e');\n",
    "addEdge('c','g');\n",
    "#Graph is stored in the form of a dictionary\n",
    "println(Graph)"
   ]
  },
  {
   "cell_type": "code",
   "execution_count": 4,
   "metadata": {},
   "outputs": [
    {
     "data": {
      "text/plain": [
       "PathPresent (generic function with 1 method)"
      ]
     },
     "execution_count": 4,
     "metadata": {},
     "output_type": "execute_result"
    }
   ],
   "source": [
    "function PathPresent(starting, ending) \n",
    "    # Mark all the vertices as not visited\n",
    "    visited = zeros(length(Vertex));\n",
    "    # Create a queue for Breadth First Search \n",
    "    queue = [];   \n",
    "    # Enqueue the Starting Vertex(starting)\n",
    "    queue = push!(queue,starting);\n",
    "    index = 0;\n",
    "    #Find index at which starting value occurs\n",
    "    for i in 1:length(Vertex)\n",
    "        if(Vertex[i] == starting)\n",
    "            index = i;\n",
    "        end\n",
    "    end\n",
    "    #Assigning starting vertex(starting) as visited\n",
    "    visited[index] = 1;   \n",
    "    while length(queue)>0\n",
    "        #Dequeue a vertex from queue  \n",
    "        inter = pop!(queue); \n",
    "        #If this adjacent node is the destination node, then return true \n",
    "        if (inter == ending) \n",
    "            return true\n",
    "        end\n",
    "        # Else, continue to do Breadth First Search \n",
    "        for (key,val) in Graph\n",
    "            #Used to find the index at which next node is present in order to mark visited\n",
    "            index = 1;\n",
    "            #If there is only 1 edge2 from edge1 \n",
    "            if(length(val) == 1) \n",
    "                for idx in 1:length(Vertex)\n",
    "                    if(val[1] == Vertex[idx])\n",
    "                        index = idx;\n",
    "                        break;\n",
    "                    end\n",
    "                end\n",
    "                if(key == inter && visited[index] == 0)\n",
    "                    #We queue in the next vertex and mark that location as visited\n",
    "                    queue = push!(queue,val[1]);\n",
    "                    visited[index] = 1;\n",
    "                end\n",
    "            #If there are multiple edge2 from edge1    \n",
    "            else\n",
    "                for i in 1:length(val)\n",
    "                    index = 0;\n",
    "                    for idx in 1:length(Vertex)\n",
    "                        if(val[i] == Vertex[idx])\n",
    "                            index = idx;\n",
    "                            break;\n",
    "                        end\n",
    "                    end\n",
    "                    if (key == inter && visited[index] == 0)\n",
    "                         #We queue in the next vertex and mark that location as visited\n",
    "                        queue = push!(queue,Vertex[index]); \n",
    "                        visited[index] = 1;\n",
    "                    end\n",
    "                end\n",
    "            end\n",
    "        end\n",
    "    end\n",
    "    # If Breadth First Search is completed without reaching ending Vertex(d) \n",
    "    return false;\n",
    "end   "
   ]
  },
  {
   "cell_type": "code",
   "execution_count": 5,
   "metadata": {},
   "outputs": [
    {
     "name": "stdout",
     "output_type": "stream",
     "text": [
      "Path Exist\n"
     ]
    }
   ],
   "source": [
    "#Defining the Starting Vertex\n",
    "vert_start = 'a';\n",
    "#Defining the Ending Vertex\n",
    "vert_end = 'g';\n",
    "if(PathPresent(vert_start, vert_end))\n",
    "    println(\"Path Exist\")\n",
    "else\n",
    "    println(\"Path Does Not Exist\")\n",
    "end"
   ]
  },
  {
   "cell_type": "code",
   "execution_count": 6,
   "metadata": {},
   "outputs": [
    {
     "name": "stdout",
     "output_type": "stream",
     "text": [
      "Path Exist\n"
     ]
    }
   ],
   "source": [
    "#Defining the Starting Vertex\n",
    "vert_start = 'a';\n",
    "#Defining the Ending Vertex\n",
    "vert_end = 'f';\n",
    "if(PathPresent(vert_start, vert_end))\n",
    "    println(\"Path Exist\")\n",
    "else\n",
    "    println(\"Path Does Not Exist\")\n",
    "end"
   ]
  },
  {
   "cell_type": "code",
   "execution_count": 7,
   "metadata": {},
   "outputs": [
    {
     "name": "stdout",
     "output_type": "stream",
     "text": [
      "Path Does Not Exist\n"
     ]
    }
   ],
   "source": [
    "#Defining the Starting Vertex\n",
    "vert_start = 'e';\n",
    "#Defining the Ending Vertex\n",
    "vert_end = 'a';\n",
    "if(PathPresent(vert_start, vert_end))\n",
    "    println(\"Path Exist\")\n",
    "else\n",
    "    println(\"Path Does Not Exist\")\n",
    "end"
   ]
  },
  {
   "cell_type": "code",
   "execution_count": 8,
   "metadata": {},
   "outputs": [
    {
     "name": "stdout",
     "output_type": "stream",
     "text": [
      "Path Does Not Exist\n"
     ]
    }
   ],
   "source": [
    "#Defining the Starting Vertex\n",
    "vert_start = 'g';\n",
    "#Defining the Ending Vertex\n",
    "vert_end = 'd';\n",
    "if(PathPresent(vert_start, vert_end))\n",
    "    println(\"Path Exist\")\n",
    "else\n",
    "    println(\"Path Does Not Exist\")\n",
    "end"
   ]
  },
  {
   "cell_type": "code",
   "execution_count": 9,
   "metadata": {},
   "outputs": [
    {
     "name": "stdout",
     "output_type": "stream",
     "text": [
      "Path Does Not Exist\n"
     ]
    }
   ],
   "source": [
    "#Defining the Starting Vertex\n",
    "vert_start = 'c';\n",
    "#Defining the Ending Vertex\n",
    "vert_end = 'a';\n",
    "if(PathPresent(vert_start, vert_end))\n",
    "    println(\"Path Exist\")\n",
    "else\n",
    "    println(\"Path Does Not Exist\")\n",
    "end"
   ]
  },
  {
   "cell_type": "markdown",
   "metadata": {},
   "source": [
    "# Question-2"
   ]
  },
  {
   "cell_type": "code",
   "execution_count": 10,
   "metadata": {},
   "outputs": [
    {
     "name": "stdout",
     "output_type": "stream",
     "text": [
      "Dict{Any,Any}('a' => ['d'],'c' => ['d'],'e' => ['a', 'b', 'c'],'b' => ['d'])\n"
     ]
    }
   ],
   "source": [
    "#Reinitialising the Graph\n",
    "Graph = Dict();\n",
    "#Defining the vertices of the Graph\n",
    "Vertex = ['a','b','c','d','e'];\n",
    "#Creating Graph by passing the edges\n",
    "addEdge('a','d');\n",
    "addEdge('b','d');\n",
    "addEdge('c','d');\n",
    "addEdge('e','a');\n",
    "addEdge('e','b');\n",
    "addEdge('e','c');\n",
    "#Graph is stored in the form of a dictionary\n",
    "println(Graph)"
   ]
  },
  {
   "cell_type": "code",
   "execution_count": 11,
   "metadata": {},
   "outputs": [
    {
     "name": "stdout",
     "output_type": "stream",
     "text": [
      "Path Exist\n"
     ]
    }
   ],
   "source": [
    "#Defining the Starting Vertex\n",
    "vert_start = 'a';\n",
    "#Defining the Ending Vertex\n",
    "vert_end = 'd';\n",
    "if(PathPresent(vert_start, vert_end))\n",
    "    println(\"Path Exist\")\n",
    "else\n",
    "    println(\"Path Does Not Exist\")\n",
    "end"
   ]
  },
  {
   "cell_type": "code",
   "execution_count": 12,
   "metadata": {},
   "outputs": [
    {
     "name": "stdout",
     "output_type": "stream",
     "text": [
      "Path Does Not Exist\n"
     ]
    }
   ],
   "source": [
    "#Defining the Starting Vertex\n",
    "vert_start = 'a';\n",
    "#Defining the Ending Vertex\n",
    "vert_end = 'e';\n",
    "if(PathPresent(vert_start, vert_end))\n",
    "    println(\"Path Exist\")\n",
    "else\n",
    "    println(\"Path Does Not Exist\")\n",
    "end"
   ]
  },
  {
   "cell_type": "code",
   "execution_count": 13,
   "metadata": {},
   "outputs": [
    {
     "name": "stdout",
     "output_type": "stream",
     "text": [
      "Path Exist\n"
     ]
    }
   ],
   "source": [
    "#Defining the Starting Vertex\n",
    "vert_start = 'e';\n",
    "#Defining the Ending Vertex\n",
    "vert_end = 'a';\n",
    "if(PathPresent(vert_start, vert_end))\n",
    "    println(\"Path Exist\")\n",
    "else\n",
    "    println(\"Path Does Not Exist\")\n",
    "end"
   ]
  },
  {
   "cell_type": "code",
   "execution_count": 14,
   "metadata": {},
   "outputs": [
    {
     "name": "stdout",
     "output_type": "stream",
     "text": [
      "Path Exist\n"
     ]
    }
   ],
   "source": [
    "#Defining the Starting Vertex\n",
    "vert_start = 'b';\n",
    "#Defining the Ending Vertex\n",
    "vert_end = 'd';\n",
    "if(PathPresent(vert_start, vert_end))\n",
    "    println(\"Path Exist\")\n",
    "else\n",
    "    println(\"Path Does Not Exist\")\n",
    "end"
   ]
  },
  {
   "cell_type": "code",
   "execution_count": 15,
   "metadata": {},
   "outputs": [
    {
     "name": "stdout",
     "output_type": "stream",
     "text": [
      "Path Does Not Exist\n"
     ]
    }
   ],
   "source": [
    "#Defining the Starting Vertex\n",
    "vert_start = 'c';\n",
    "#Defining the Ending Vertex\n",
    "vert_end = 'a';\n",
    "if(PathPresent(vert_start, vert_end))\n",
    "    println(\"Path Exist\")\n",
    "else\n",
    "    println(\"Path Does Not Exist\")\n",
    "end"
   ]
  },
  {
   "cell_type": "code",
   "execution_count": 16,
   "metadata": {},
   "outputs": [
    {
     "name": "stdout",
     "output_type": "stream",
     "text": [
      "Path Does Not Exist\n"
     ]
    }
   ],
   "source": [
    "#Defining the Starting Vertex\n",
    "vert_start = 'd';\n",
    "#Defining the Ending Vertex\n",
    "vert_end = 'b';\n",
    "if(PathPresent(vert_start, vert_end))\n",
    "    println(\"Path Exist\")\n",
    "else\n",
    "    println(\"Path Does Not Exist\")\n",
    "end"
   ]
  },
  {
   "cell_type": "markdown",
   "metadata": {},
   "source": [
    "# Question-3"
   ]
  },
  {
   "cell_type": "code",
   "execution_count": 17,
   "metadata": {},
   "outputs": [
    {
     "name": "stdout",
     "output_type": "stream",
     "text": [
      "Dict{Any,Any}('a' => ['d'],'d' => ['c'],'b' => ['a', 'd', 'e', 'c'])\n"
     ]
    }
   ],
   "source": [
    "#Reinitialising the Graph\n",
    "Graph = Dict();\n",
    "#Defining the vertices of the Graph\n",
    "Vertex = ['a','b','c','d','e'];\n",
    "#Creating Graph by passing the edges\n",
    "addEdge('a','d');\n",
    "addEdge('b','a');\n",
    "addEdge('b','d');\n",
    "addEdge('b','e');\n",
    "addEdge('b','c');\n",
    "addEdge('d','c');\n",
    "#Graph is stored in the form of a dictionary\n",
    "println(Graph)"
   ]
  },
  {
   "cell_type": "code",
   "execution_count": 18,
   "metadata": {},
   "outputs": [
    {
     "name": "stdout",
     "output_type": "stream",
     "text": [
      "Path Does Not Exist\n"
     ]
    }
   ],
   "source": [
    "#Defining the Starting Vertex\n",
    "vert_start = 'a';\n",
    "#Defining the Ending Vertex\n",
    "vert_end = 'e';\n",
    "if(PathPresent(vert_start, vert_end))\n",
    "    println(\"Path Exist\")\n",
    "else\n",
    "    println(\"Path Does Not Exist\")\n",
    "end"
   ]
  },
  {
   "cell_type": "code",
   "execution_count": 19,
   "metadata": {},
   "outputs": [
    {
     "name": "stdout",
     "output_type": "stream",
     "text": [
      "Path Exist\n"
     ]
    }
   ],
   "source": [
    "#Defining the Starting Vertex\n",
    "vert_start = 'a';\n",
    "#Defining the Ending Vertex\n",
    "vert_end = 'c';\n",
    "if(PathPresent(vert_start, vert_end))\n",
    "    println(\"Path Exist\")\n",
    "else\n",
    "    println(\"Path Does Not Exist\")\n",
    "end"
   ]
  },
  {
   "cell_type": "code",
   "execution_count": 20,
   "metadata": {},
   "outputs": [
    {
     "name": "stdout",
     "output_type": "stream",
     "text": [
      "Path Does Not Exist\n"
     ]
    }
   ],
   "source": [
    "#Defining the Starting Vertex\n",
    "vert_start = 'e';\n",
    "#Defining the Ending Vertex\n",
    "vert_end = 'a';\n",
    "if(PathPresent(vert_start, vert_end))\n",
    "    println(\"Path Exist\")\n",
    "else\n",
    "    println(\"Path Does Not Exist\")\n",
    "end"
   ]
  },
  {
   "cell_type": "code",
   "execution_count": 21,
   "metadata": {},
   "outputs": [
    {
     "name": "stdout",
     "output_type": "stream",
     "text": [
      "Path Exist\n"
     ]
    }
   ],
   "source": [
    "#Defining the Starting Vertex\n",
    "vert_start = 'b';\n",
    "#Defining the Ending Vertex\n",
    "vert_end = 'd';\n",
    "if(PathPresent(vert_start, vert_end))\n",
    "    println(\"Path Exist\")\n",
    "else\n",
    "    println(\"Path Does Not Exist\")\n",
    "end"
   ]
  },
  {
   "cell_type": "code",
   "execution_count": 22,
   "metadata": {},
   "outputs": [
    {
     "name": "stdout",
     "output_type": "stream",
     "text": [
      "Path Does Not Exist\n"
     ]
    }
   ],
   "source": [
    "#Defining the Starting Vertex\n",
    "vert_start = 'c';\n",
    "#Defining the Ending Vertex\n",
    "vert_end = 'a';\n",
    "if(PathPresent(vert_start, vert_end))\n",
    "    println(\"Path Exist\")\n",
    "else\n",
    "    println(\"Path Does Not Exist\")\n",
    "end"
   ]
  },
  {
   "cell_type": "code",
   "execution_count": null,
   "metadata": {},
   "outputs": [],
   "source": []
  }
 ],
 "metadata": {
  "kernelspec": {
   "display_name": "Julia 1.5.0",
   "language": "julia",
   "name": "julia-1.5"
  },
  "language_info": {
   "file_extension": ".jl",
   "mimetype": "application/julia",
   "name": "julia",
   "version": "1.5.0"
  }
 },
 "nbformat": 4,
 "nbformat_minor": 2
}
