{
 "cells": [
  {
   "cell_type": "code",
   "execution_count": 1,
   "metadata": {},
   "outputs": [],
   "source": [
    "# importing required packages\n",
    "import networkx as nx \n",
    "import matplotlib.cbook\n",
    "from collections import defaultdict\n",
    "import numpy as np"
   ]
  },
  {
   "cell_type": "code",
   "execution_count": 2,
   "metadata": {},
   "outputs": [],
   "source": [
    "#Defining class to create the graph\n",
    "class Graph:\n",
    "    #Constructor used to initialise an object\n",
    "    def __init__(self, vlist = []):\n",
    "        self.index = {v:i for i,v in enumerate(vlist)}    # looks up index given name\n",
    "        self.vertex = {i:v for i,v in enumerate(vlist)}   # looks up name given index\n",
    "        self.edge = []\n",
    "        self.edgelabel = []\n",
    "    #addEdge function to add the edges\n",
    "    def addEdge(self, vsrc, vdst, label='', repeats=True):\n",
    "        e = (self.index[vsrc], self.index[vdst])\n",
    "        if (repeats) or (e not in self.edge):\n",
    "            self.edge.append(e)\n",
    "            self.edgelabel.append(label)\n",
    "    #addVertex function to add the vertices\n",
    "    def addVertex(self, label):\n",
    "        index = len(self.index)\n",
    "        self.index[label] = index\n",
    "        self.vertex[index] = label \n",
    "    #Function to find degrees of a node\n",
    "    def degrees(self):\n",
    "        inDegree = {}\n",
    "        outDegree = {}\n",
    "        for src, dst in self.edge:\n",
    "            outDegree[src] = outDegree.get(src, 0) + 1\n",
    "            inDegree[dst] = inDegree.get(dst, 0) + 1\n",
    "        return inDegree, outDegree\n",
    "    #verifyAndGetStart used to obtain the starting kmer node\n",
    "    def verifyAndGetStart(self):\n",
    "        inDegree, outDegree = self.degrees()\n",
    "        start, end = 0, 0\n",
    "        # node 0 will be the starting node is a Euler cycle is found\n",
    "        for vert in self.vertex:\n",
    "            ins = inDegree.get(vert,0)\n",
    "            outs = outDegree.get(vert,0)\n",
    "            if (ins == outs):\n",
    "                continue\n",
    "            elif (ins - outs == 1):\n",
    "                end = vert\n",
    "            elif (outs - ins == 1):\n",
    "                start = vert\n",
    "            else:\n",
    "                start, end = -1, -1\n",
    "                break\n",
    "        if (start >= 0) and (end >= 0):\n",
    "            return start\n",
    "        else:\n",
    "            return -1\n",
    "    \n",
    "    #Function to find the Eulerian Path\n",
    "    def eulerianPath(self):\n",
    "        graph = [(src,dst) for src,dst in self.edge]\n",
    "        currentVertex = self.verifyAndGetStart()\n",
    "        path = [currentVertex]\n",
    "        # \"next\" is the list index where vertices get inserted into our tour\n",
    "        # it starts at the end (i.e. same as appending), but later \"side-trips\" will insert in the middle\n",
    "        next = 1\n",
    "        while (len(graph) > 0):                   # when all edges are used, len(graph) == 0\n",
    "            # follows a path until it ends\n",
    "            for edge in graph:\n",
    "                if (edge[0] == currentVertex):\n",
    "                    currentVertex = edge[1]\n",
    "                    graph.remove(edge)\n",
    "                    path.insert(next, currentVertex)  # inserts vertex in path\n",
    "                    next += 1\n",
    "                    break\n",
    "            else:\n",
    "                # Look for side-trips along the current path\n",
    "                for edge in graph:\n",
    "                    try:\n",
    "                        # insert our side-trip after the \"u\" vertex that is starts from\n",
    "                        next = path.index(edge[0]) + 1\n",
    "                        currentVertex = edge[0]\n",
    "                        break\n",
    "                    except ValueError:\n",
    "                        continue\n",
    "                else:\n",
    "                    print(\"There is no path!\")\n",
    "                    return False\n",
    "        return path\n",
    "    #Function to find the Euler Edges from the given edges\n",
    "    def eulerEdges(self, starting, path):\n",
    "        edgeId = {}\n",
    "        for i in range(len(self.edge)):\n",
    "            edgeId[self.edge[i]] = edgeId.get(self.edge[i], []) + [i]\n",
    "        edgeList = [self.vertex[starting]]\n",
    "        for i in range(len(path)-1):\n",
    "            edgeList.append(self.edgelabel[edgeId[path[i],path[i+1]].pop()])\n",
    "        return edgeList           "
   ]
  },
  {
   "cell_type": "code",
   "execution_count": 3,
   "metadata": {},
   "outputs": [],
   "source": [
    "#Function used to retrieve the kmers\n",
    "def get_kmers(seq,k):\n",
    "    kmerlist = []\n",
    "    for i in range(len(seq)-k+1):\n",
    "        kmerlist.append(seq[i:i+k])\n",
    "    return kmerlist"
   ]
  },
  {
   "cell_type": "code",
   "execution_count": 4,
   "metadata": {},
   "outputs": [],
   "source": [
    "seq = \"TGCGGTAATGCAGTTGACT\"\n",
    "k = 3\n",
    "kmers = get_kmers(seq, k)\n",
    "g = Graph()\n",
    "Vertex = list(set(kmers))\n",
    "for val in Vertex:\n",
    "    g.addVertex(val)\n",
    "for i in range(len(kmers) - 1):\n",
    "    g.addEdge(kmers[i], kmers[i+1], kmers[i+1])"
   ]
  },
  {
   "cell_type": "code",
   "execution_count": 5,
   "metadata": {},
   "outputs": [
    {
     "name": "stdout",
     "output_type": "stream",
     "text": [
      "[3, 13, 8, 0, 15, 5, 2, 14, 3, 11, 12, 4, 7, 6, 9, 1, 10]\n"
     ]
    }
   ],
   "source": [
    "path = g.eulerianPath()\n",
    "print(path)"
   ]
  },
  {
   "cell_type": "code",
   "execution_count": 6,
   "metadata": {},
   "outputs": [],
   "source": [
    "#Obtaining the indegree and outdegree of the nodes\n",
    "indegree, outdegree = g.degrees()"
   ]
  },
  {
   "cell_type": "code",
   "execution_count": 7,
   "metadata": {},
   "outputs": [
    {
     "data": {
      "text/plain": [
       "3"
      ]
     },
     "execution_count": 7,
     "metadata": {},
     "output_type": "execute_result"
    }
   ],
   "source": [
    "#Obtaining the starting index\n",
    "start_index = g.verifyAndGetStart()\n",
    "#Printing the starting node index\n",
    "start_index"
   ]
  },
  {
   "cell_type": "code",
   "execution_count": 8,
   "metadata": {},
   "outputs": [
    {
     "data": {
      "text/plain": [
       "{0: 'GGT',\n",
       " 1: 'GAC',\n",
       " 2: 'AAT',\n",
       " 3: 'TGC',\n",
       " 4: 'AGT',\n",
       " 5: 'TAA',\n",
       " 6: 'TTG',\n",
       " 7: 'GTT',\n",
       " 8: 'CGG',\n",
       " 9: 'TGA',\n",
       " 10: 'ACT',\n",
       " 11: 'GCA',\n",
       " 12: 'CAG',\n",
       " 13: 'GCG',\n",
       " 14: 'ATG',\n",
       " 15: 'GTA'}"
      ]
     },
     "execution_count": 8,
     "metadata": {},
     "output_type": "execute_result"
    }
   ],
   "source": [
    "#Printing the vertices of the graph\n",
    "g.vertex"
   ]
  },
  {
   "cell_type": "code",
   "execution_count": 9,
   "metadata": {},
   "outputs": [
    {
     "data": {
      "text/plain": [
       "['TGC',\n",
       " 'GCG',\n",
       " 'CGG',\n",
       " 'GGT',\n",
       " 'GTA',\n",
       " 'TAA',\n",
       " 'AAT',\n",
       " 'ATG',\n",
       " 'TGC',\n",
       " 'GCA',\n",
       " 'CAG',\n",
       " 'AGT',\n",
       " 'GTT',\n",
       " 'TTG',\n",
       " 'TGA',\n",
       " 'GAC',\n",
       " 'ACT']"
      ]
     },
     "execution_count": 9,
     "metadata": {},
     "output_type": "execute_result"
    }
   ],
   "source": [
    "#Printing the Euler Edges\n",
    "Euler_edge = g.eulerEdges(start_index, path)\n",
    "Euler_edge"
   ]
  },
  {
   "cell_type": "code",
   "execution_count": 10,
   "metadata": {},
   "outputs": [
    {
     "name": "stdout",
     "output_type": "stream",
     "text": [
      "TGCGGTAATGCAGTTGACT\n"
     ]
    }
   ],
   "source": [
    "#Reconstruction from Euler Path\n",
    "recons_seq = Euler_edge[0]\n",
    "for i in range (1, len(Euler_edge)):\n",
    "        recons_seq = recons_seq + Euler_edge[i][-1]\n",
    "#Printing the sequence obtained from the Eulerian Path from De bruijn Graph\n",
    "print(recons_seq)"
   ]
  },
  {
   "cell_type": "code",
   "execution_count": 11,
   "metadata": {},
   "outputs": [
    {
     "data": {
      "text/plain": [
       "[(3, 13),\n",
       " (13, 8),\n",
       " (8, 0),\n",
       " (0, 15),\n",
       " (15, 5),\n",
       " (5, 2),\n",
       " (2, 14),\n",
       " (14, 3),\n",
       " (3, 11),\n",
       " (11, 12),\n",
       " (12, 4),\n",
       " (4, 7),\n",
       " (7, 6),\n",
       " (6, 9),\n",
       " (9, 1),\n",
       " (1, 10)]"
      ]
     },
     "execution_count": 11,
     "metadata": {},
     "output_type": "execute_result"
    }
   ],
   "source": [
    "#Printing the edges in indices representation\n",
    "g.edge"
   ]
  },
  {
   "cell_type": "code",
   "execution_count": 12,
   "metadata": {},
   "outputs": [
    {
     "data": {
      "text/plain": [
       "['GCG',\n",
       " 'CGG',\n",
       " 'GGT',\n",
       " 'GTA',\n",
       " 'TAA',\n",
       " 'AAT',\n",
       " 'ATG',\n",
       " 'TGC',\n",
       " 'GCA',\n",
       " 'CAG',\n",
       " 'AGT',\n",
       " 'GTT',\n",
       " 'TTG',\n",
       " 'TGA',\n",
       " 'GAC',\n",
       " 'ACT']"
      ]
     },
     "execution_count": 12,
     "metadata": {},
     "output_type": "execute_result"
    }
   ],
   "source": [
    "#The edge labels stored\n",
    "g.edgelabel"
   ]
  },
  {
   "cell_type": "code",
   "execution_count": 14,
   "metadata": {},
   "outputs": [
    {
     "data": {
      "image/png": "[encoded data removed]",
      "text/plain": [
       "<Figure size 432x288 with 1 Axes>"
      ]
     },
     "metadata": {},
     "output_type": "display_data"
    }
   ],
   "source": [
    "#Creating a directed Graph\n",
    "dgraph = nx.DiGraph()\n",
    "for i in range(len(path)-1):\n",
    "    dgraph.add_edge(g.vertex[path[i]], g.vertex[path[i+1]])\n",
    "#Drawing the directed graph\n",
    "nx.draw_shell(dgraph,with_labels = True,node_size=800)"
   ]
  },
  {
   "cell_type": "code",
   "execution_count": null,
   "metadata": {},
   "outputs": [],
   "source": []
  }
 ],
 "metadata": {
  "kernelspec": {
   "display_name": "Python 3",
   "language": "python",
   "name": "python3"
  },
  "language_info": {
   "codemirror_mode": {
    "name": "ipython",
    "version": 3
   },
   "file_extension": ".py",
   "mimetype": "text/x-python",
   "name": "python",
   "nbconvert_exporter": "python",
   "pygments_lexer": "ipython3",
   "version": "3.7.4"
  }
 },
 "nbformat": 4,
 "nbformat_minor": 2
}
