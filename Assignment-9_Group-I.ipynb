{
 "cells": [
  {
   "cell_type": "code",
   "execution_count": 1,
   "metadata": {},
   "outputs": [
    {
     "name": "stdout",
     "output_type": "stream",
     "text": [
      "['$CGGGCTGC', 'C$CGGGCTG', 'GC$CGGGCT', 'TGC$CGGGC', 'CTGC$CGGG', 'GCTGC$CGG', 'GGCTGC$CG', 'GGGCTGC$C', 'CGGGCTGC$']\n"
     ]
    }
   ],
   "source": [
    "#Given sequence\n",
    "orig_seq = \"CGGGCTGC\"\n",
    "#Given sequence assigned again inorder to use the string again and again to find the bwt\n",
    "seq = \"CGGGCTGC\"\n",
    "#Appending the symbol inorder to create the burrows-wheeler transform\n",
    "seq = seq + \"$\"\n",
    "#Obtaining character by character from the given string\n",
    "seqlist = list(seq)\n",
    "#List to store the rotation strings in sequential order\n",
    "Rotlist = []\n",
    "#Obtaining the rotated strings using for loop\n",
    "for i in range(len(seqlist)):\n",
    "    #Taking last character and appending in front of the string upto the last character\n",
    "    char = seq[-1] + seq[:-1]\n",
    "    #Joining these characters into a string\n",
    "    new = ''.join(char)\n",
    "    #Re-initialising the sequence inorder to obtain successive rotating sequences\n",
    "    seq = new\n",
    "    #Appending the obtained rotated sequence to the Rotlist\n",
    "    Rotlist.append(new)\n",
    "print(Rotlist)"
   ]
  },
  {
   "cell_type": "code",
   "execution_count": 2,
   "metadata": {},
   "outputs": [
    {
     "name": "stdout",
     "output_type": "stream",
     "text": [
      "['$CGGGCTGC', 'C$CGGGCTG', 'CGGGCTGC$', 'CTGC$CGGG', 'GC$CGGGCT', 'GCTGC$CGG', 'GGCTGC$CG', 'GGGCTGC$C', 'TGC$CGGGC']\n"
     ]
    }
   ],
   "source": [
    "#Printing the list with each string's character in alphabetical order  \n",
    "sort_list = sorted(Rotlist)\n",
    "print(sort_list)"
   ]
  },
  {
   "cell_type": "code",
   "execution_count": 3,
   "metadata": {},
   "outputs": [],
   "source": [
    "#Obtaining the burrows-wheeler transform sequence\n",
    "bwt_seq = \"\"\n",
    "for i in range(len(seqlist)):\n",
    "    #Obtaining the sequence\n",
    "    element = sort_list[i]\n",
    "    #Obtaining last character from the string stored in element\n",
    "    last = element[-1]\n",
    "    #Appending the last character present in each string\n",
    "    bwt_seq = bwt_seq + last\n",
    "    #Printing the last character in the string\n",
    "    #print(last)"
   ]
  },
  {
   "cell_type": "code",
   "execution_count": 4,
   "metadata": {},
   "outputs": [
    {
     "data": {
      "text/plain": [
       "'CG$GTGGCC'"
      ]
     },
     "execution_count": 4,
     "metadata": {},
     "output_type": "execute_result"
    }
   ],
   "source": [
    "#Printing the burrows-wheeler transform sequence\n",
    "bwt_seq"
   ]
  },
  {
   "cell_type": "code",
   "execution_count": 5,
   "metadata": {},
   "outputs": [
    {
     "name": "stdout",
     "output_type": "stream",
     "text": [
      "unsorted =  ['C', 'G', '$', 'G', 'T', 'G', 'G', 'C', 'C']\n",
      "sorted =  ['$', 'C', 'C', 'C', 'G', 'G', 'G', 'G', 'T']\n",
      "unsorted =  ['C$', 'GC', '$C', 'GC', 'TG', 'GG', 'GG', 'CG', 'CT']\n",
      "sorted =  ['$C', 'C$', 'CG', 'CT', 'GC', 'GC', 'GG', 'GG', 'TG']\n",
      "unsorted =  ['C$C', 'GC$', '$CG', 'GCT', 'TGC', 'GGC', 'GGG', 'CGG', 'CTG']\n",
      "sorted =  ['$CG', 'C$C', 'CGG', 'CTG', 'GC$', 'GCT', 'GGC', 'GGG', 'TGC']\n",
      "unsorted =  ['C$CG', 'GC$C', '$CGG', 'GCTG', 'TGC$', 'GGCT', 'GGGC', 'CGGG', 'CTGC']\n",
      "sorted =  ['$CGG', 'C$CG', 'CGGG', 'CTGC', 'GC$C', 'GCTG', 'GGCT', 'GGGC', 'TGC$']\n",
      "unsorted =  ['C$CGG', 'GC$CG', '$CGGG', 'GCTGC', 'TGC$C', 'GGCTG', 'GGGCT', 'CGGGC', 'CTGC$']\n",
      "sorted =  ['$CGGG', 'C$CGG', 'CGGGC', 'CTGC$', 'GC$CG', 'GCTGC', 'GGCTG', 'GGGCT', 'TGC$C']\n",
      "unsorted =  ['C$CGGG', 'GC$CGG', '$CGGGC', 'GCTGC$', 'TGC$CG', 'GGCTGC', 'GGGCTG', 'CGGGCT', 'CTGC$C']\n",
      "sorted =  ['$CGGGC', 'C$CGGG', 'CGGGCT', 'CTGC$C', 'GC$CGG', 'GCTGC$', 'GGCTGC', 'GGGCTG', 'TGC$CG']\n",
      "unsorted =  ['C$CGGGC', 'GC$CGGG', '$CGGGCT', 'GCTGC$C', 'TGC$CGG', 'GGCTGC$', 'GGGCTGC', 'CGGGCTG', 'CTGC$CG']\n",
      "sorted =  ['$CGGGCT', 'C$CGGGC', 'CGGGCTG', 'CTGC$CG', 'GC$CGGG', 'GCTGC$C', 'GGCTGC$', 'GGGCTGC', 'TGC$CGG']\n",
      "unsorted =  ['C$CGGGCT', 'GC$CGGGC', '$CGGGCTG', 'GCTGC$CG', 'TGC$CGGG', 'GGCTGC$C', 'GGGCTGC$', 'CGGGCTGC', 'CTGC$CGG']\n",
      "sorted =  ['$CGGGCTG', 'C$CGGGCT', 'CGGGCTGC', 'CTGC$CGG', 'GC$CGGGC', 'GCTGC$CG', 'GGCTGC$C', 'GGGCTGC$', 'TGC$CGGG']\n",
      "unsorted =  ['C$CGGGCTG', 'GC$CGGGCT', '$CGGGCTGC', 'GCTGC$CGG', 'TGC$CGGGC', 'GGCTGC$CG', 'GGGCTGC$C', 'CGGGCTGC$', 'CTGC$CGGG']\n",
      "sorted =  ['$CGGGCTGC', 'C$CGGGCTG', 'CGGGCTGC$', 'CTGC$CGGG', 'GC$CGGGCT', 'GCTGC$CGG', 'GGCTGC$CG', 'GGGCTGC$C', 'TGC$CGGGC']\n",
      "CGGGCTGC\n"
     ]
    }
   ],
   "source": [
    "#Make empty table as a list\n",
    "table = [\"\"] * len(bwt_seq)  \n",
    "for i in range(len(bwt_seq)):\n",
    "    #Add a column of r\n",
    "    #Each time we iterate and append the characters into the table for each element\n",
    "    table = [bwt_seq[i] + table[i] for i in range(len(bwt_seq))]\n",
    "    print('unsorted = ', table)\n",
    "    #We sort the table and print it\n",
    "    table = sorted(table)\n",
    "    print('sorted = ', table)\n",
    "\n",
    "#We find the correct string that is the reconstructed one by checking which element ends with $    \n",
    "inverse_bwt = [row for row in table if row.endswith(\"$\")][0]\n",
    "#Getting rid of start and end markers \"$\"\n",
    "inverse_bwt = inverse_bwt.rstrip(\"$\")  \n",
    "#Printing the inverse_bwt string\n",
    "print(inverse_bwt)"
   ]
  },
  {
   "cell_type": "code",
   "execution_count": 6,
   "metadata": {},
   "outputs": [
    {
     "data": {
      "text/plain": [
       "True"
      ]
     },
     "execution_count": 6,
     "metadata": {},
     "output_type": "execute_result"
    }
   ],
   "source": [
    "#Checking whether the inverse bwt is same as the original string\n",
    "inverse_bwt == orig_seq"
   ]
  }
 ],
 "metadata": {
  "kernelspec": {
   "display_name": "Python 3",
   "language": "python",
   "name": "python3"
  },
  "language_info": {
   "codemirror_mode": {
    "name": "ipython",
    "version": 3
   },
   "file_extension": ".py",
   "mimetype": "text/x-python",
   "name": "python",
   "nbconvert_exporter": "python",
   "pygments_lexer": "ipython3",
   "version": "3.7.4"
  }
 },
 "nbformat": 4,
 "nbformat_minor": 2
}
