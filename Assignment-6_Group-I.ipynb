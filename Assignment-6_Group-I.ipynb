{
 "cells": [
  {
   "cell_type": "code",
   "execution_count": 1,
   "metadata": {},
   "outputs": [],
   "source": [
    "#Importing required packages\n",
    "import numpy as np\n",
    "from collections import defaultdict\n",
    "import matplotlib.pyplot as plt"
   ]
  },
  {
   "cell_type": "markdown",
   "metadata": {},
   "source": [
    "# Activity-1:Retrieving the K-mers from the sequence"
   ]
  },
  {
   "cell_type": "code",
   "execution_count": 2,
   "metadata": {},
   "outputs": [],
   "source": [
    "#Function used to retrieve the kmers\n",
    "def get_kmers(seq,k):\n",
    "    kmerDict={}\n",
    "    for i in range(len(seq)-k+1):\n",
    "        kmerDict[i] = seq[i:i+k]\n",
    "    return kmerDict"
   ]
  },
  {
   "cell_type": "code",
   "execution_count": 3,
   "metadata": {},
   "outputs": [],
   "source": [
    "#Kmer length\n",
    "k = 3\n",
    "#Given sequences\n",
    "seq1 = \"TAATGCC\"\n",
    "seq2 = \"GCGGTAATGCAGTTGAC\"\n",
    "seq3 = \"TTGAGTGCCAGCG\""
   ]
  },
  {
   "cell_type": "code",
   "execution_count": 4,
   "metadata": {},
   "outputs": [
    {
     "data": {
      "text/plain": [
       "{0: 'TAA', 1: 'AAT', 2: 'ATG', 3: 'TGC', 4: 'GCC'}"
      ]
     },
     "execution_count": 4,
     "metadata": {},
     "output_type": "execute_result"
    }
   ],
   "source": [
    "#Obtaining the kmer sequences\n",
    "K1 = get_kmers(seq1,k)\n",
    "K1"
   ]
  },
  {
   "cell_type": "markdown",
   "metadata": {},
   "source": [
    "# Activity-2:Lexicographic Ordering of K-mers"
   ]
  },
  {
   "cell_type": "code",
   "execution_count": 5,
   "metadata": {},
   "outputs": [],
   "source": [
    "#Function used to sort the kmer list in lexicographic order\n",
    "def kmer_list(dict_K):\n",
    "    s = [];\n",
    "    for key,val in dict_K.items():\n",
    "        #Appending all kmers in the list\n",
    "        s.append(val)\n",
    "    #Returning the kmer in list\n",
    "    return s"
   ]
  },
  {
   "cell_type": "code",
   "execution_count": 6,
   "metadata": {},
   "outputs": [
    {
     "name": "stdout",
     "output_type": "stream",
     "text": [
      "['AAT', 'ATG', 'GCC', 'TAA', 'TGC']\n"
     ]
    }
   ],
   "source": [
    "#Obtaining the lexicographic order of the kmers\n",
    "s = kmer_list(K1)\n",
    "#Sorting done with inbuilt sort command which is based on unicode/ASCII values\n",
    "s.sort()\n",
    "print(s)"
   ]
  },
  {
   "cell_type": "markdown",
   "metadata": {},
   "source": [
    "# Activity-3:Hamiltonian Path Reconstruction & Activity-4:Building the Graph"
   ]
  },
  {
   "cell_type": "code",
   "execution_count": 7,
   "metadata": {},
   "outputs": [],
   "source": [
    "#Defining the suffix and prefix functions\n",
    "def suffix(str1):\n",
    "    return(str1[1:k])\n",
    "def prefix(str2):\n",
    "    return(str2[0:k-1])"
   ]
  },
  {
   "cell_type": "code",
   "execution_count": 8,
   "metadata": {},
   "outputs": [],
   "source": [
    "#Function to create adjacency matrix (a directed graph)\n",
    "def create_AdjMat(kmer):\n",
    "    #Creating zeros matrix\n",
    "    Adj = np.zeros((len(kmer),len(kmer)))\n",
    "    for i in range(len(kmer)):\n",
    "        for j in range(len(kmer)):\n",
    "            #Mapping done based on directed graphs\n",
    "            if(kmer[i] != kmer[j] and prefix(kmer[j]) == suffix(kmer[i])):\n",
    "                Adj[i][j] = 1\n",
    "    return Adj;"
   ]
  },
  {
   "cell_type": "code",
   "execution_count": 9,
   "metadata": {},
   "outputs": [],
   "source": [
    "#Function to find the starting and ending of the string\n",
    "def start_end(dictK):\n",
    "    start = \"\"\n",
    "    ending = \"\"\n",
    "    #Creating the adjacency matrix\n",
    "    #print(dictK)\n",
    "    a2 = create_AdjMat(dictK)\n",
    "    #print(a2)\n",
    "    #Computing outdegree from adjacency matrix\n",
    "    outdegree = a2.sum(axis = 1)\n",
    "    #Computing indegree from adjacency matrix\n",
    "    indegree = a2.sum(axis = 0)\n",
    "    #In order to obtain the starting and ending points accurately and stop the testing once\n",
    "    #the starting and ending points are known\n",
    "    count1 = 0\n",
    "    count2 = 0\n",
    "    for i in range(len(outdegree)):\n",
    "        #Obtaining the ending point as it's outdegree is minimum, i.e, 0(ideal)\n",
    "        if(outdegree[i] == min(outdegree) and count1 < 1):\n",
    "            ending = ending + str(dictK[i])\n",
    "            count1 = count1 + 1\n",
    "        #Obtaining the starting point as it's indegree is minimum, i.e, 0(ideal) \n",
    "        elif(indegree[i] == min(indegree) and count2 < 1):\n",
    "            start = start + str(dictK[i])\n",
    "            count2 = count2 + 1\n",
    "    return start,ending,a2\n",
    "start, ending, adjMat = start_end(s)"
   ]
  },
  {
   "cell_type": "code",
   "execution_count": 10,
   "metadata": {},
   "outputs": [],
   "source": [
    "#Initialise Graph\n",
    "Graph = dict();\n",
    "#Function used to add the edges\n",
    "def addEdge(edge1, edge2):\n",
    "    #If an edge1 is already present, edge2 gets appended to the list\n",
    "    if(edge1 in Graph):\n",
    "        Graph[edge1].append(edge2);\n",
    "    else:\n",
    "        #edge2 assigned at key=edge1 which means edge directed from edge1 to edge2\n",
    "        Graph[edge1] = [edge2];"
   ]
  },
  {
   "cell_type": "code",
   "execution_count": 11,
   "metadata": {},
   "outputs": [],
   "source": [
    "#Defining the vertices of the Graph\n",
    "Vertex = list(set(s));\n",
    "#print(Vertex)"
   ]
  },
  {
   "cell_type": "code",
   "execution_count": 12,
   "metadata": {},
   "outputs": [],
   "source": [
    "#Graph is stored in the form of a dictionary\n",
    "#Creating Graph by passing the edges\n",
    "for i in range(len(s)):\n",
    "    for j in range(len(s)):\n",
    "        if(i != j and suffix(s[i]) == prefix(s[j])):\n",
    "            addEdge(s[i],s[j])\n",
    "#Graph"
   ]
  },
  {
   "cell_type": "code",
   "execution_count": 13,
   "metadata": {},
   "outputs": [],
   "source": [
    "def PathPresent(starting, ending): \n",
    "    # Mark all the vertices as not visited\n",
    "    visited = np.zeros(len(Vertex))\n",
    "    # Hamiltonian Graph linking\n",
    "    Ham_graph = \"(\" + starting + \")\" + \"--->\"\n",
    "    # Create a queue for Breadth First Search \n",
    "    queue = []\n",
    "    # Enqueue the Starting Vertex(starting)\n",
    "    queue.append(starting);\n",
    "    path = str(starting);\n",
    "    index = 0\n",
    "    #Find index at which starting value occurs\n",
    "    for i in range(len(Vertex)):\n",
    "        if(Vertex[i] == starting):\n",
    "            index = i;\n",
    "    #Assigning starting vertex(starting) as visited\n",
    "    visited[index] = 1;\n",
    "    path = str(starting);\n",
    "    while len(queue)>0:\n",
    "        #Dequeue a vertex from queue  \n",
    "        inter = queue.pop()\n",
    "        #If this adjacent node is the destination node, then return true \n",
    "        if (inter == ending):\n",
    "            #print(visited)\n",
    "            Ham_graph = Ham_graph[0:-4]\n",
    "            print(Ham_graph)\n",
    "            return path\n",
    "        # Else, continue to do Breadth First Search \n",
    "        for key,val in Graph.items():\n",
    "            #Used to find the index at which next node is present in order to mark visited\n",
    "            index = 0\n",
    "            #If there is only 1 edge2 from edge1 \n",
    "            if(len(val) == 1): \n",
    "                for idx in range(len(Vertex)):\n",
    "                    if(val[0] == Vertex[idx]):\n",
    "                        index = idx\n",
    "                        break\n",
    "                if(key == inter and visited[index] == 0):\n",
    "                    #We queue in the next vertex and mark that location as visited\n",
    "                    queue.append(val[0])\n",
    "                    visited[index] = 1\n",
    "                    path = path + str(val[0][-1])\n",
    "                    Ham_graph = Ham_graph + \"(\" + val[0] + \")\" + \"--->\"\n",
    "            #If there are multiple edge2 from edge1    \n",
    "            else:\n",
    "                for i in range(len(val)):\n",
    "                    index = 0\n",
    "                    for idx in range(len(Vertex)):\n",
    "                        if(val[i] == Vertex[idx]):\n",
    "                            index = idx\n",
    "                            break\n",
    "                    if (key == inter and visited[index] == 0):\n",
    "                         #We queue in the next vertex and mark that location as visited\n",
    "                        queue.append(Vertex[index]) \n",
    "                        visited[index] = 1\n",
    "                        path = path + str(Vertex[index][-1])\n",
    "                        Ham_graph = Ham_graph + \"(\" + Vertex[index] + \")\" + \"--->\"\n",
    "    # If Breadth First Search is completed without reaching ending Vertex(d) \n",
    "    return [] "
   ]
  },
  {
   "cell_type": "code",
   "execution_count": 14,
   "metadata": {},
   "outputs": [
    {
     "name": "stdout",
     "output_type": "stream",
     "text": [
      "(TAA)--->(AAT)--->(ATG)--->(TGC)--->(GCC)\n",
      "Path Exist:TAATGCC\n"
     ]
    }
   ],
   "source": [
    "#Defining the Starting kmer\n",
    "vert_start = start;\n",
    "#Defining the Ending kmer\n",
    "vert_end = ending;\n",
    "#Obtaining the reconstructed string\n",
    "reconstructed_string = PathPresent(vert_start, vert_end)\n",
    "#Checking whether the path exists or not\n",
    "if(len(reconstructed_string) > 0):\n",
    "    print(\"Path Exist:\" + reconstructed_string)\n",
    "else:\n",
    "    print(\"Path Does Not Exist\")"
   ]
  },
  {
   "cell_type": "code",
   "execution_count": 15,
   "metadata": {},
   "outputs": [
    {
     "data": {
      "text/plain": [
       "True"
      ]
     },
     "execution_count": 15,
     "metadata": {},
     "output_type": "execute_result"
    }
   ],
   "source": [
    "#Checking whether reconstructed string is same as the initial sequence\n",
    "reconstructed_string == seq1\n",
    "#reconstructed_string == seq2\n",
    "#reconstructed_string == seq3"
   ]
  }
 ],
 "metadata": {
  "kernelspec": {
   "display_name": "Python 3",
   "language": "python",
   "name": "python3"
  },
  "language_info": {
   "codemirror_mode": {
    "name": "ipython",
    "version": 3
   },
   "file_extension": ".py",
   "mimetype": "text/x-python",
   "name": "python",
   "nbconvert_exporter": "python",
   "pygments_lexer": "ipython3",
   "version": "3.7.4"
  }
 },
 "nbformat": 4,
 "nbformat_minor": 2
}
