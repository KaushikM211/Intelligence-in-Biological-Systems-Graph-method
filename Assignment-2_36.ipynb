{
 "cells": [
  {
   "cell_type": "code",
   "execution_count": 1,
   "metadata": {},
   "outputs": [],
   "source": [
    "using LinearAlgebra"
   ]
  },
  {
   "cell_type": "code",
   "execution_count": 2,
   "metadata": {},
   "outputs": [
    {
     "data": {
      "text/plain": [
       "find_degree (generic function with 1 method)"
      ]
     },
     "execution_count": 2,
     "metadata": {},
     "output_type": "execute_result"
    }
   ],
   "source": [
    "function find_degree(A)\n",
    "    #Retrieve size of matrix\n",
    "    s = size(A);\n",
    "    \n",
    "    #Indegree of a node is sum of the elements present in node's column of the Adjacency Matrix\n",
    "    indegree = [sum(A[:,i]) for i in 1:s[2]];\n",
    "    \n",
    "    #Outdegree of a node is sum of the elements present in node's row of the Adjacency Matrix\n",
    "    outdegree = [sum(A[i,:]) for i in 1:s[1]];\n",
    "    \n",
    "    #Degree of node is sum of its indegree and outdegree\n",
    "    degree = indegree .+ outdegree;\n",
    "    \n",
    "    #Degree Matrix is a diagonal matrix\n",
    "    degree_Mat = Diagonal(degree);\n",
    "    \n",
    "    return indegree, outdegree, degree, degree_Mat\n",
    "end"
   ]
  },
  {
   "cell_type": "code",
   "execution_count": 3,
   "metadata": {},
   "outputs": [
    {
     "data": {
      "text/plain": [
       "5×5 Array{Int64,2}:\n",
       " 0  1  0  0  0\n",
       " 0  0  1  1  1\n",
       " 0  0  0  0  0\n",
       " 0  0  0  0  0\n",
       " 0  0  0  0  0"
      ]
     },
     "execution_count": 3,
     "metadata": {},
     "output_type": "execute_result"
    }
   ],
   "source": [
    "# 1.1\n",
    "Adj_Mat = [0 1 0 0 0;0 0 1 1 1;0 0 0 0 0;0 0 0 0 0;0 0 0 0 0];\n",
    "Adj_Mat"
   ]
  },
  {
   "cell_type": "code",
   "execution_count": 4,
   "metadata": {},
   "outputs": [],
   "source": [
    "#Calling the function\n",
    "Indegree, Outdegree,Degree, Degree_Mat = find_degree(Adj_Mat);"
   ]
  },
  {
   "cell_type": "code",
   "execution_count": 5,
   "metadata": {},
   "outputs": [
    {
     "name": "stdout",
     "output_type": "stream",
     "text": [
      "[0, 1, 1, 1, 1]\n"
     ]
    }
   ],
   "source": [
    "# 1.2\n",
    "println(Indegree)"
   ]
  },
  {
   "cell_type": "code",
   "execution_count": 6,
   "metadata": {},
   "outputs": [
    {
     "name": "stdout",
     "output_type": "stream",
     "text": [
      "[1, 3, 0, 0, 0]\n"
     ]
    }
   ],
   "source": [
    "# 1.3\n",
    "println(Outdegree)"
   ]
  },
  {
   "cell_type": "code",
   "execution_count": 7,
   "metadata": {},
   "outputs": [
    {
     "data": {
      "text/plain": [
       "5×5 Diagonal{Int64,Array{Int64,1}}:\n",
       " 1  ⋅  ⋅  ⋅  ⋅\n",
       " ⋅  4  ⋅  ⋅  ⋅\n",
       " ⋅  ⋅  1  ⋅  ⋅\n",
       " ⋅  ⋅  ⋅  1  ⋅\n",
       " ⋅  ⋅  ⋅  ⋅  1"
      ]
     },
     "execution_count": 7,
     "metadata": {},
     "output_type": "execute_result"
    }
   ],
   "source": [
    "#1.4\n",
    "Degree_Mat"
   ]
  }
 ],
 "metadata": {
  "kernelspec": {
   "display_name": "Julia 1.5.0",
   "language": "julia",
   "name": "julia-1.5"
  },
  "language_info": {
   "file_extension": ".jl",
   "mimetype": "application/julia",
   "name": "julia",
   "version": "1.5.0"
  }
 },
 "nbformat": 4,
 "nbformat_minor": 2
}
